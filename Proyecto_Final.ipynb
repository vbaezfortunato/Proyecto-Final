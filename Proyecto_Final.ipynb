{
  "nbformat": 4,
  "nbformat_minor": 0,
  "metadata": {
    "colab": {
      "name": "Proyecto Final.ipynb",
      "provenance": [],
      "collapsed_sections": [],
      "authorship_tag": "ABX9TyOdBkVc/9RMxJqHJxfsGSG0",
      "include_colab_link": true
    },
    "kernelspec": {
      "name": "python3",
      "display_name": "Python 3"
    }
  },
  "cells": [
    {
      "cell_type": "markdown",
      "metadata": {
        "id": "view-in-github",
        "colab_type": "text"
      },
      "source": [
        "<a href=\"https://colab.research.google.com/github/vbaezfortunato/Proyecto-Final/blob/master/Proyecto_Final.ipynb\" target=\"_parent\"><img src=\"https://colab.research.google.com/assets/colab-badge.svg\" alt=\"Open In Colab\"/></a>"
      ]
    },
    {
      "cell_type": "markdown",
      "metadata": {
        "id": "5umK1Rnsd2rd",
        "colab_type": "text"
      },
      "source": [
        "**Proyecto Final**\n",
        "\n",
        "Cargar Librerias a Utilizar"
      ]
    },
    {
      "cell_type": "code",
      "metadata": {
        "id": "glKU5Dpjcg5M",
        "colab_type": "code",
        "colab": {
          "base_uri": "https://localhost:8080/",
          "height": 69
        },
        "outputId": "5edaf1e6-e1fa-4069-a0a5-2c468a5ca8a6"
      },
      "source": [
        "import tensorflow.compat.v1 as tf\n",
        "import pandas as pd\n",
        "from sklearn.svm import SVC\n",
        "from sklearn.externals import joblib\n",
        "import sklearn as sk\n",
        "import numpy as np\n",
        "np.seterr(divide='ignore', invalid='ignore')\n",
        "from tensorflow import keras\n",
        "import imageio as imio\n",
        "from sklearn import svm\n",
        "import numpy as np\n",
        "import matplotlib.pyplot as plt\n",
        "from sklearn import preprocessing\n",
        "from sklearn.model_selection import train_test_split\n",
        "from sklearn.tree import DecisionTreeClassifier\n",
        "from sklearn import metrics\n",
        "from sklearn.externals.six import StringIO  \n",
        "from sklearn.pipeline import Pipeline\n",
        "from sklearn.preprocessing import StandardScaler\n",
        "from IPython.display import Image  \n",
        "from sklearn.tree import export_graphviz\n",
        "from sklearn.externals import joblib\n",
        "from sklearn import tree\n",
        "import graphviz\n",
        "import datetime \n",
        "from scipy import stats\n",
        "import seaborn as sns\n",
        "from google.colab import files\n",
        "from google.colab import drive \n",
        "drive.mount('/content/gdrive')\n",
        "\n",
        "%load_ext tensorboard"
      ],
      "execution_count": 625,
      "outputs": [
        {
          "output_type": "stream",
          "text": [
            "Drive already mounted at /content/gdrive; to attempt to forcibly remount, call drive.mount(\"/content/gdrive\", force_remount=True).\n",
            "The tensorboard extension is already loaded. To reload it, use:\n",
            "  %reload_ext tensorboard\n"
          ],
          "name": "stdout"
        }
      ]
    },
    {
      "cell_type": "code",
      "metadata": {
        "id": "baMWI0vQebdm",
        "colab_type": "code",
        "colab": {
          "base_uri": "https://localhost:8080/",
          "height": 682
        },
        "outputId": "9c789c18-c6d3-4051-8da9-41a870c9b2d9"
      },
      "source": [
        "\n",
        "titanic_dt = pd.read_csv('/content/gdrive/My Drive/data_titanic_proyecto.csv')\n",
        "titanic_dt.head(15)"
      ],
      "execution_count": 626,
      "outputs": [
        {
          "output_type": "execute_result",
          "data": {
            "text/html": [
              "<div>\n",
              "<style scoped>\n",
              "    .dataframe tbody tr th:only-of-type {\n",
              "        vertical-align: middle;\n",
              "    }\n",
              "\n",
              "    .dataframe tbody tr th {\n",
              "        vertical-align: top;\n",
              "    }\n",
              "\n",
              "    .dataframe thead th {\n",
              "        text-align: right;\n",
              "    }\n",
              "</style>\n",
              "<table border=\"1\" class=\"dataframe\">\n",
              "  <thead>\n",
              "    <tr style=\"text-align: right;\">\n",
              "      <th></th>\n",
              "      <th>PassengerId</th>\n",
              "      <th>Name</th>\n",
              "      <th>Age</th>\n",
              "      <th>SibSp</th>\n",
              "      <th>Parch</th>\n",
              "      <th>Ticket</th>\n",
              "      <th>Fare</th>\n",
              "      <th>Cabin</th>\n",
              "      <th>Embarked</th>\n",
              "      <th>passenger_class</th>\n",
              "      <th>passenger_sex</th>\n",
              "      <th>passenger_survived</th>\n",
              "    </tr>\n",
              "  </thead>\n",
              "  <tbody>\n",
              "    <tr>\n",
              "      <th>0</th>\n",
              "      <td>1</td>\n",
              "      <td>Braund, Mr. Owen Harris</td>\n",
              "      <td>22.0</td>\n",
              "      <td>1</td>\n",
              "      <td>0</td>\n",
              "      <td>A/5 21171</td>\n",
              "      <td>7.2500</td>\n",
              "      <td>NaN</td>\n",
              "      <td>S</td>\n",
              "      <td>Lower</td>\n",
              "      <td>M</td>\n",
              "      <td>N</td>\n",
              "    </tr>\n",
              "    <tr>\n",
              "      <th>1</th>\n",
              "      <td>2</td>\n",
              "      <td>Cumings, Mrs. John Bradley (Florence Briggs Th...</td>\n",
              "      <td>38.0</td>\n",
              "      <td>1</td>\n",
              "      <td>0</td>\n",
              "      <td>PC 17599</td>\n",
              "      <td>71.2833</td>\n",
              "      <td>C85</td>\n",
              "      <td>C</td>\n",
              "      <td>Upper</td>\n",
              "      <td>F</td>\n",
              "      <td>Y</td>\n",
              "    </tr>\n",
              "    <tr>\n",
              "      <th>2</th>\n",
              "      <td>3</td>\n",
              "      <td>Heikkinen, Miss. Laina</td>\n",
              "      <td>26.0</td>\n",
              "      <td>0</td>\n",
              "      <td>0</td>\n",
              "      <td>STON/O2. 3101282</td>\n",
              "      <td>7.9250</td>\n",
              "      <td>NaN</td>\n",
              "      <td>S</td>\n",
              "      <td>Lower</td>\n",
              "      <td>F</td>\n",
              "      <td>Y</td>\n",
              "    </tr>\n",
              "    <tr>\n",
              "      <th>3</th>\n",
              "      <td>4</td>\n",
              "      <td>Futrelle, Mrs. Jacques Heath (Lily May Peel)</td>\n",
              "      <td>35.0</td>\n",
              "      <td>1</td>\n",
              "      <td>0</td>\n",
              "      <td>113803</td>\n",
              "      <td>53.1000</td>\n",
              "      <td>C123</td>\n",
              "      <td>S</td>\n",
              "      <td>Upper</td>\n",
              "      <td>F</td>\n",
              "      <td>Y</td>\n",
              "    </tr>\n",
              "    <tr>\n",
              "      <th>4</th>\n",
              "      <td>5</td>\n",
              "      <td>Allen, Mr. William Henry</td>\n",
              "      <td>35.0</td>\n",
              "      <td>0</td>\n",
              "      <td>0</td>\n",
              "      <td>373450</td>\n",
              "      <td>8.0500</td>\n",
              "      <td>NaN</td>\n",
              "      <td>S</td>\n",
              "      <td>Lower</td>\n",
              "      <td>M</td>\n",
              "      <td>N</td>\n",
              "    </tr>\n",
              "    <tr>\n",
              "      <th>5</th>\n",
              "      <td>6</td>\n",
              "      <td>Moran, Mr. James</td>\n",
              "      <td>NaN</td>\n",
              "      <td>0</td>\n",
              "      <td>0</td>\n",
              "      <td>330877</td>\n",
              "      <td>8.4583</td>\n",
              "      <td>NaN</td>\n",
              "      <td>Q</td>\n",
              "      <td>Lower</td>\n",
              "      <td>M</td>\n",
              "      <td>N</td>\n",
              "    </tr>\n",
              "    <tr>\n",
              "      <th>6</th>\n",
              "      <td>7</td>\n",
              "      <td>McCarthy, Mr. Timothy J</td>\n",
              "      <td>54.0</td>\n",
              "      <td>0</td>\n",
              "      <td>0</td>\n",
              "      <td>17463</td>\n",
              "      <td>51.8625</td>\n",
              "      <td>E46</td>\n",
              "      <td>S</td>\n",
              "      <td>Upper</td>\n",
              "      <td>M</td>\n",
              "      <td>N</td>\n",
              "    </tr>\n",
              "    <tr>\n",
              "      <th>7</th>\n",
              "      <td>8</td>\n",
              "      <td>Palsson, Master. Gosta Leonard</td>\n",
              "      <td>2.0</td>\n",
              "      <td>3</td>\n",
              "      <td>1</td>\n",
              "      <td>349909</td>\n",
              "      <td>21.0750</td>\n",
              "      <td>NaN</td>\n",
              "      <td>S</td>\n",
              "      <td>Lower</td>\n",
              "      <td>M</td>\n",
              "      <td>N</td>\n",
              "    </tr>\n",
              "    <tr>\n",
              "      <th>8</th>\n",
              "      <td>9</td>\n",
              "      <td>Johnson, Mrs. Oscar W (Elisabeth Vilhelmina Berg)</td>\n",
              "      <td>27.0</td>\n",
              "      <td>0</td>\n",
              "      <td>2</td>\n",
              "      <td>347742</td>\n",
              "      <td>11.1333</td>\n",
              "      <td>NaN</td>\n",
              "      <td>S</td>\n",
              "      <td>Lower</td>\n",
              "      <td>F</td>\n",
              "      <td>Y</td>\n",
              "    </tr>\n",
              "    <tr>\n",
              "      <th>9</th>\n",
              "      <td>10</td>\n",
              "      <td>Nasser, Mrs. Nicholas (Adele Achem)</td>\n",
              "      <td>14.0</td>\n",
              "      <td>1</td>\n",
              "      <td>0</td>\n",
              "      <td>237736</td>\n",
              "      <td>30.0708</td>\n",
              "      <td>NaN</td>\n",
              "      <td>C</td>\n",
              "      <td>Middle</td>\n",
              "      <td>F</td>\n",
              "      <td>Y</td>\n",
              "    </tr>\n",
              "    <tr>\n",
              "      <th>10</th>\n",
              "      <td>11</td>\n",
              "      <td>Sandstrom, Miss. Marguerite Rut</td>\n",
              "      <td>4.0</td>\n",
              "      <td>1</td>\n",
              "      <td>1</td>\n",
              "      <td>PP 9549</td>\n",
              "      <td>16.7000</td>\n",
              "      <td>G6</td>\n",
              "      <td>S</td>\n",
              "      <td>Lower</td>\n",
              "      <td>F</td>\n",
              "      <td>Y</td>\n",
              "    </tr>\n",
              "    <tr>\n",
              "      <th>11</th>\n",
              "      <td>12</td>\n",
              "      <td>Bonnell, Miss. Elizabeth</td>\n",
              "      <td>58.0</td>\n",
              "      <td>0</td>\n",
              "      <td>0</td>\n",
              "      <td>113783</td>\n",
              "      <td>26.5500</td>\n",
              "      <td>C103</td>\n",
              "      <td>S</td>\n",
              "      <td>Upper</td>\n",
              "      <td>F</td>\n",
              "      <td>Y</td>\n",
              "    </tr>\n",
              "    <tr>\n",
              "      <th>12</th>\n",
              "      <td>13</td>\n",
              "      <td>Saundercock, Mr. William Henry</td>\n",
              "      <td>20.0</td>\n",
              "      <td>0</td>\n",
              "      <td>0</td>\n",
              "      <td>A/5. 2151</td>\n",
              "      <td>8.0500</td>\n",
              "      <td>NaN</td>\n",
              "      <td>S</td>\n",
              "      <td>Lower</td>\n",
              "      <td>M</td>\n",
              "      <td>N</td>\n",
              "    </tr>\n",
              "    <tr>\n",
              "      <th>13</th>\n",
              "      <td>14</td>\n",
              "      <td>Andersson, Mr. Anders Johan</td>\n",
              "      <td>39.0</td>\n",
              "      <td>1</td>\n",
              "      <td>5</td>\n",
              "      <td>347082</td>\n",
              "      <td>31.2750</td>\n",
              "      <td>NaN</td>\n",
              "      <td>S</td>\n",
              "      <td>Lower</td>\n",
              "      <td>M</td>\n",
              "      <td>N</td>\n",
              "    </tr>\n",
              "    <tr>\n",
              "      <th>14</th>\n",
              "      <td>15</td>\n",
              "      <td>Vestrom, Miss. Hulda Amanda Adolfina</td>\n",
              "      <td>14.0</td>\n",
              "      <td>0</td>\n",
              "      <td>0</td>\n",
              "      <td>350406</td>\n",
              "      <td>7.8542</td>\n",
              "      <td>NaN</td>\n",
              "      <td>S</td>\n",
              "      <td>Lower</td>\n",
              "      <td>F</td>\n",
              "      <td>N</td>\n",
              "    </tr>\n",
              "  </tbody>\n",
              "</table>\n",
              "</div>"
            ],
            "text/plain": [
              "    PassengerId  ... passenger_survived\n",
              "0             1  ...                  N\n",
              "1             2  ...                  Y\n",
              "2             3  ...                  Y\n",
              "3             4  ...                  Y\n",
              "4             5  ...                  N\n",
              "5             6  ...                  N\n",
              "6             7  ...                  N\n",
              "7             8  ...                  N\n",
              "8             9  ...                  Y\n",
              "9            10  ...                  Y\n",
              "10           11  ...                  Y\n",
              "11           12  ...                  Y\n",
              "12           13  ...                  N\n",
              "13           14  ...                  N\n",
              "14           15  ...                  N\n",
              "\n",
              "[15 rows x 12 columns]"
            ]
          },
          "metadata": {
            "tags": []
          },
          "execution_count": 626
        }
      ]
    },
    {
      "cell_type": "markdown",
      "metadata": {
        "id": "Pep4PAFkfpAa",
        "colab_type": "text"
      },
      "source": [
        "**Engineer Features**\n",
        "\n",
        "\n",
        "\n",
        "*   Verificando for Null Values\n",
        "\n",
        "\n"
      ]
    },
    {
      "cell_type": "code",
      "metadata": {
        "id": "eQdpKg7qf-Oz",
        "colab_type": "code",
        "colab": {
          "base_uri": "https://localhost:8080/",
          "height": 243
        },
        "outputId": "ab5dd081-733f-4e56-da7e-c95efb1e7e6b"
      },
      "source": [
        "\n",
        "titanic_dt.isnull().sum()"
      ],
      "execution_count": 627,
      "outputs": [
        {
          "output_type": "execute_result",
          "data": {
            "text/plain": [
              "PassengerId             0\n",
              "Name                    0\n",
              "Age                   177\n",
              "SibSp                   0\n",
              "Parch                   0\n",
              "Ticket                  0\n",
              "Fare                    0\n",
              "Cabin                 687\n",
              "Embarked                2\n",
              "passenger_class         0\n",
              "passenger_sex           0\n",
              "passenger_survived      0\n",
              "dtype: int64"
            ]
          },
          "metadata": {
            "tags": []
          },
          "execution_count": 627
        }
      ]
    },
    {
      "cell_type": "markdown",
      "metadata": {
        "id": "scRNex3NibsW",
        "colab_type": "text"
      },
      "source": [
        "Resolviendo los valores faltante de Age mediante median input:\n",
        "\n",
        "\n"
      ]
    },
    {
      "cell_type": "code",
      "metadata": {
        "id": "u9HXZenv7E04",
        "colab_type": "code",
        "colab": {
          "base_uri": "https://localhost:8080/",
          "height": 35
        },
        "outputId": "ce97d21d-ab4b-4292-a785-1dbd0c53be9e"
      },
      "source": [
        "titanic_dt[\"Age\"] = titanic_dt[\"Age\"].fillna(titanic_dt[\"Age\"].median());\n",
        "titanic_dt[\"Age\"].isnull().sum()"
      ],
      "execution_count": 628,
      "outputs": [
        {
          "output_type": "execute_result",
          "data": {
            "text/plain": [
              "0"
            ]
          },
          "metadata": {
            "tags": []
          },
          "execution_count": 628
        }
      ]
    },
    {
      "cell_type": "markdown",
      "metadata": {
        "id": "bDRyMVjAlnr1",
        "colab_type": "text"
      },
      "source": [
        "Para Embarked le asignare el valor que mas se repita"
      ]
    },
    {
      "cell_type": "code",
      "metadata": {
        "id": "zCr6pRWA7T0H",
        "colab_type": "code",
        "colab": {}
      },
      "source": [
        "titanic_dt[\"Embarked\"] = titanic_dt[\"Embarked\"].fillna('S')\n",
        "titanic_dt[\"Embarked_S\"] = (titanic_dt[\"Embarked\"] == 'S').astype(np.float32)\n",
        "titanic_dt[\"Embarked_C\"] = (titanic_dt[\"Embarked\"] == 'C').astype(np.float32)\n",
        "titanic_dt[\"Embarked_Q\"] = (titanic_dt[\"Embarked\"] == 'Q').astype(np.float32)"
      ],
      "execution_count": 629,
      "outputs": []
    },
    {
      "cell_type": "markdown",
      "metadata": {
        "id": "LA5pRvyu7hti",
        "colab_type": "text"
      },
      "source": [
        "usar hot encode"
      ]
    },
    {
      "cell_type": "code",
      "metadata": {
        "id": "LhOehSa77oqe",
        "colab_type": "code",
        "colab": {}
      },
      "source": [
        "titanic_dt[\"Class_Lower\"] = (titanic_dt[\"passenger_class\"] == 'Lower').astype(np.float32)\n",
        "titanic_dt[\"Class_Middle\"] = (titanic_dt[\"passenger_class\"] == 'Middle').astype(np.float32)\n",
        "titanic_dt[\"Class_Upper\"] = (titanic_dt[\"passenger_class\"] == 'Upper').astype(np.float32)"
      ],
      "execution_count": 630,
      "outputs": []
    },
    {
      "cell_type": "markdown",
      "metadata": {
        "id": "zoOa-nOMoovu",
        "colab_type": "text"
      },
      "source": [
        "Normalizar Datos\n",
        "\n"
      ]
    },
    {
      "cell_type": "code",
      "metadata": {
        "id": "W-x-MK2eotLS",
        "colab_type": "code",
        "colab": {
          "base_uri": "https://localhost:8080/",
          "height": 317
        },
        "outputId": "786fafcb-fb80-4fe1-b5ab-473a8a0deddc"
      },
      "source": [
        "\n",
        "titanic_dt[\"Sex\"] = (titanic_dt[\"passenger_sex\"] == 'F').astype(np.float)\n",
        "titanic_dt[\"Survived\"] = (titanic_dt[\"passenger_survived\"].values == 'Y').astype(np.float32)\n",
        "titanic_dt[\"Age\"]=(titanic_dt[\"Age\"]-titanic_dt[\"Age\"].min())/(titanic_dt[\"Age\"].max()-titanic_dt[\"Age\"].min())\n",
        "titanic_dt[\"Fare\"]=(titanic_dt[\"Fare\"]-titanic_dt[\"Fare\"].min())/(titanic_dt[\"Fare\"].max()-titanic_dt[\"Fare\"].min())\n",
        "titanic_dt.head(3)"
      ],
      "execution_count": 750,
      "outputs": [
        {
          "output_type": "execute_result",
          "data": {
            "text/html": [
              "<div>\n",
              "<style scoped>\n",
              "    .dataframe tbody tr th:only-of-type {\n",
              "        vertical-align: middle;\n",
              "    }\n",
              "\n",
              "    .dataframe tbody tr th {\n",
              "        vertical-align: top;\n",
              "    }\n",
              "\n",
              "    .dataframe thead th {\n",
              "        text-align: right;\n",
              "    }\n",
              "</style>\n",
              "<table border=\"1\" class=\"dataframe\">\n",
              "  <thead>\n",
              "    <tr style=\"text-align: right;\">\n",
              "      <th></th>\n",
              "      <th>PassengerId</th>\n",
              "      <th>Name</th>\n",
              "      <th>Age</th>\n",
              "      <th>SibSp</th>\n",
              "      <th>Parch</th>\n",
              "      <th>Ticket</th>\n",
              "      <th>Fare</th>\n",
              "      <th>Cabin</th>\n",
              "      <th>Embarked</th>\n",
              "      <th>passenger_class</th>\n",
              "      <th>passenger_sex</th>\n",
              "      <th>passenger_survived</th>\n",
              "      <th>Embarked_S</th>\n",
              "      <th>Embarked_C</th>\n",
              "      <th>Embarked_Q</th>\n",
              "      <th>Class_Lower</th>\n",
              "      <th>Class_Middle</th>\n",
              "      <th>Class_Upper</th>\n",
              "      <th>Sex</th>\n",
              "      <th>Survived</th>\n",
              "    </tr>\n",
              "  </thead>\n",
              "  <tbody>\n",
              "    <tr>\n",
              "      <th>0</th>\n",
              "      <td>1</td>\n",
              "      <td>Braund, Mr. Owen Harris</td>\n",
              "      <td>0.271174</td>\n",
              "      <td>1</td>\n",
              "      <td>0</td>\n",
              "      <td>A/5 21171</td>\n",
              "      <td>0.014151</td>\n",
              "      <td>NaN</td>\n",
              "      <td>S</td>\n",
              "      <td>Lower</td>\n",
              "      <td>M</td>\n",
              "      <td>N</td>\n",
              "      <td>1.0</td>\n",
              "      <td>0.0</td>\n",
              "      <td>0.0</td>\n",
              "      <td>1.0</td>\n",
              "      <td>0.0</td>\n",
              "      <td>0.0</td>\n",
              "      <td>0.0</td>\n",
              "      <td>0.0</td>\n",
              "    </tr>\n",
              "    <tr>\n",
              "      <th>1</th>\n",
              "      <td>2</td>\n",
              "      <td>Cumings, Mrs. John Bradley (Florence Briggs Th...</td>\n",
              "      <td>0.472229</td>\n",
              "      <td>1</td>\n",
              "      <td>0</td>\n",
              "      <td>PC 17599</td>\n",
              "      <td>0.139136</td>\n",
              "      <td>C85</td>\n",
              "      <td>C</td>\n",
              "      <td>Upper</td>\n",
              "      <td>F</td>\n",
              "      <td>Y</td>\n",
              "      <td>0.0</td>\n",
              "      <td>1.0</td>\n",
              "      <td>0.0</td>\n",
              "      <td>0.0</td>\n",
              "      <td>0.0</td>\n",
              "      <td>1.0</td>\n",
              "      <td>1.0</td>\n",
              "      <td>1.0</td>\n",
              "    </tr>\n",
              "    <tr>\n",
              "      <th>2</th>\n",
              "      <td>3</td>\n",
              "      <td>Heikkinen, Miss. Laina</td>\n",
              "      <td>0.321438</td>\n",
              "      <td>0</td>\n",
              "      <td>0</td>\n",
              "      <td>STON/O2. 3101282</td>\n",
              "      <td>0.015469</td>\n",
              "      <td>NaN</td>\n",
              "      <td>S</td>\n",
              "      <td>Lower</td>\n",
              "      <td>F</td>\n",
              "      <td>Y</td>\n",
              "      <td>1.0</td>\n",
              "      <td>0.0</td>\n",
              "      <td>0.0</td>\n",
              "      <td>1.0</td>\n",
              "      <td>0.0</td>\n",
              "      <td>0.0</td>\n",
              "      <td>1.0</td>\n",
              "      <td>1.0</td>\n",
              "    </tr>\n",
              "  </tbody>\n",
              "</table>\n",
              "</div>"
            ],
            "text/plain": [
              "   PassengerId  ... Survived\n",
              "0            1  ...      0.0\n",
              "1            2  ...      1.0\n",
              "2            3  ...      1.0\n",
              "\n",
              "[3 rows x 20 columns]"
            ]
          },
          "metadata": {
            "tags": []
          },
          "execution_count": 750
        }
      ]
    },
    {
      "cell_type": "markdown",
      "metadata": {
        "id": "cITXRoyMxk1b",
        "colab_type": "text"
      },
      "source": [
        "Validacion"
      ]
    },
    {
      "cell_type": "code",
      "metadata": {
        "id": "n62pq3doxkVR",
        "colab_type": "code",
        "colab": {
          "base_uri": "https://localhost:8080/",
          "height": 387
        },
        "outputId": "826a9fe0-9dea-433f-eab7-ab353de7acd1"
      },
      "source": [
        "sns.catplot('Sex',data=titanic_dt,kind='count',hue='Survived')"
      ],
      "execution_count": 632,
      "outputs": [
        {
          "output_type": "execute_result",
          "data": {
            "text/plain": [
              "<seaborn.axisgrid.FacetGrid at 0x7f0e8d0cf588>"
            ]
          },
          "metadata": {
            "tags": []
          },
          "execution_count": 632
        },
        {
          "output_type": "display_data",
          "data": {
            "image/png": "[encoded data removed]",
            "text/plain": [
              "<Figure size 411.875x360 with 1 Axes>"
            ]
          },
          "metadata": {
            "tags": [],
            "needs_background": "light"
          }
        }
      ]
    },
    {
      "cell_type": "markdown",
      "metadata": {
        "id": "wbXeBcxIyPSG",
        "colab_type": "text"
      },
      "source": [
        "Segun el grafico las mujeres tenia mas posibilidad de sobrevivir que los hombres\n"
      ]
    },
    {
      "cell_type": "code",
      "metadata": {
        "id": "VMn1nOdhyZI-",
        "colab_type": "code",
        "colab": {
          "base_uri": "https://localhost:8080/",
          "height": 297
        },
        "outputId": "96b9a3b0-b534-44c4-881c-e046b44f6349"
      },
      "source": [
        "sns.boxplot('Age',data=titanic_dt)"
      ],
      "execution_count": 633,
      "outputs": [
        {
          "output_type": "execute_result",
          "data": {
            "text/plain": [
              "<matplotlib.axes._subplots.AxesSubplot at 0x7f0e8cfb3828>"
            ]
          },
          "metadata": {
            "tags": []
          },
          "execution_count": 633
        },
        {
          "output_type": "display_data",
          "data": {
            "image/png": "[encoded data removed]",
            "text/plain": [
              "<Figure size 432x288 with 1 Axes>"
            ]
          },
          "metadata": {
            "tags": [],
            "needs_background": "light"
          }
        }
      ]
    },
    {
      "cell_type": "markdown",
      "metadata": {
        "id": "BP6kdzbGywRf",
        "colab_type": "text"
      },
      "source": [
        "Segun Boxplot la media de edad de las personas en el titanic era entre 27 y 29 anios"
      ]
    },
    {
      "cell_type": "code",
      "metadata": {
        "id": "il5UrQOazASA",
        "colab_type": "code",
        "colab": {
          "base_uri": "https://localhost:8080/",
          "height": 369
        },
        "outputId": "e8630070-b47e-4374-d404-8d26424c2876"
      },
      "source": [
        "sns.factorplot('Survived',\n",
        "               data=titanic_dt,\n",
        "               kind='count',col='passenger_class',\n",
        "               col_wrap=4,height=4,aspect=1)"
      ],
      "execution_count": 634,
      "outputs": [
        {
          "output_type": "stream",
          "text": [
            "/usr/local/lib/python3.6/dist-packages/seaborn/categorical.py:3666: UserWarning: The `factorplot` function has been renamed to `catplot`. The original name will be removed in a future release. Please update your code. Note that the default `kind` in `factorplot` (`'point'`) has changed `'strip'` in `catplot`.\n",
            "  warnings.warn(msg)\n"
          ],
          "name": "stderr"
        },
        {
          "output_type": "execute_result",
          "data": {
            "text/plain": [
              "<seaborn.axisgrid.FacetGrid at 0x7f0e8cf59eb8>"
            ]
          },
          "metadata": {
            "tags": []
          },
          "execution_count": 634
        },
        {
          "output_type": "display_data",
          "data": {
            "image/png": "[encoded data removed]",
            "text/plain": [
              "<Figure size 1152x288 with 3 Axes>"
            ]
          },
          "metadata": {
            "tags": [],
            "needs_background": "light"
          }
        }
      ]
    },
    {
      "cell_type": "markdown",
      "metadata": {
        "id": "_zmEv7xuz9En",
        "colab_type": "text"
      },
      "source": [
        "La clase pobre tuvo mayor perdida segun la grafica de barra"
      ]
    },
    {
      "cell_type": "markdown",
      "metadata": {
        "id": "7mnK1f4N76Sr",
        "colab_type": "text"
      },
      "source": [
        "**Separados los datos entre train and test**"
      ]
    },
    {
      "cell_type": "code",
      "metadata": {
        "id": "xHlf66LSUS7a",
        "colab_type": "code",
        "colab": {
          "base_uri": "https://localhost:8080/",
          "height": 415
        },
        "outputId": "9b17df8c-5835-40b7-bd07-5ced6d9462d6"
      },
      "source": [
        "titanic_dt[NumFields]"
      ],
      "execution_count": 751,
      "outputs": [
        {
          "output_type": "execute_result",
          "data": {
            "text/html": [
              "<div>\n",
              "<style scoped>\n",
              "    .dataframe tbody tr th:only-of-type {\n",
              "        vertical-align: middle;\n",
              "    }\n",
              "\n",
              "    .dataframe tbody tr th {\n",
              "        vertical-align: top;\n",
              "    }\n",
              "\n",
              "    .dataframe thead th {\n",
              "        text-align: right;\n",
              "    }\n",
              "</style>\n",
              "<table border=\"1\" class=\"dataframe\">\n",
              "  <thead>\n",
              "    <tr style=\"text-align: right;\">\n",
              "      <th></th>\n",
              "      <th>Age</th>\n",
              "      <th>SibSp</th>\n",
              "      <th>Parch</th>\n",
              "      <th>Fare</th>\n",
              "      <th>Sex</th>\n",
              "      <th>Embarked_S</th>\n",
              "      <th>Embarked_C</th>\n",
              "      <th>Embarked_Q</th>\n",
              "      <th>Class_Lower</th>\n",
              "      <th>Class_Middle</th>\n",
              "      <th>Class_Upper</th>\n",
              "    </tr>\n",
              "  </thead>\n",
              "  <tbody>\n",
              "    <tr>\n",
              "      <th>0</th>\n",
              "      <td>0.271174</td>\n",
              "      <td>1</td>\n",
              "      <td>0</td>\n",
              "      <td>0.014151</td>\n",
              "      <td>0.0</td>\n",
              "      <td>1.0</td>\n",
              "      <td>0.0</td>\n",
              "      <td>0.0</td>\n",
              "      <td>1.0</td>\n",
              "      <td>0.0</td>\n",
              "      <td>0.0</td>\n",
              "    </tr>\n",
              "    <tr>\n",
              "      <th>1</th>\n",
              "      <td>0.472229</td>\n",
              "      <td>1</td>\n",
              "      <td>0</td>\n",
              "      <td>0.139136</td>\n",
              "      <td>1.0</td>\n",
              "      <td>0.0</td>\n",
              "      <td>1.0</td>\n",
              "      <td>0.0</td>\n",
              "      <td>0.0</td>\n",
              "      <td>0.0</td>\n",
              "      <td>1.0</td>\n",
              "    </tr>\n",
              "    <tr>\n",
              "      <th>2</th>\n",
              "      <td>0.321438</td>\n",
              "      <td>0</td>\n",
              "      <td>0</td>\n",
              "      <td>0.015469</td>\n",
              "      <td>1.0</td>\n",
              "      <td>1.0</td>\n",
              "      <td>0.0</td>\n",
              "      <td>0.0</td>\n",
              "      <td>1.0</td>\n",
              "      <td>0.0</td>\n",
              "      <td>0.0</td>\n",
              "    </tr>\n",
              "    <tr>\n",
              "      <th>3</th>\n",
              "      <td>0.434531</td>\n",
              "      <td>1</td>\n",
              "      <td>0</td>\n",
              "      <td>0.103644</td>\n",
              "      <td>1.0</td>\n",
              "      <td>1.0</td>\n",
              "      <td>0.0</td>\n",
              "      <td>0.0</td>\n",
              "      <td>0.0</td>\n",
              "      <td>0.0</td>\n",
              "      <td>1.0</td>\n",
              "    </tr>\n",
              "    <tr>\n",
              "      <th>4</th>\n",
              "      <td>0.434531</td>\n",
              "      <td>0</td>\n",
              "      <td>0</td>\n",
              "      <td>0.015713</td>\n",
              "      <td>0.0</td>\n",
              "      <td>1.0</td>\n",
              "      <td>0.0</td>\n",
              "      <td>0.0</td>\n",
              "      <td>1.0</td>\n",
              "      <td>0.0</td>\n",
              "      <td>0.0</td>\n",
              "    </tr>\n",
              "    <tr>\n",
              "      <th>...</th>\n",
              "      <td>...</td>\n",
              "      <td>...</td>\n",
              "      <td>...</td>\n",
              "      <td>...</td>\n",
              "      <td>...</td>\n",
              "      <td>...</td>\n",
              "      <td>...</td>\n",
              "      <td>...</td>\n",
              "      <td>...</td>\n",
              "      <td>...</td>\n",
              "      <td>...</td>\n",
              "    </tr>\n",
              "    <tr>\n",
              "      <th>886</th>\n",
              "      <td>0.334004</td>\n",
              "      <td>0</td>\n",
              "      <td>0</td>\n",
              "      <td>0.025374</td>\n",
              "      <td>0.0</td>\n",
              "      <td>1.0</td>\n",
              "      <td>0.0</td>\n",
              "      <td>0.0</td>\n",
              "      <td>0.0</td>\n",
              "      <td>1.0</td>\n",
              "      <td>0.0</td>\n",
              "    </tr>\n",
              "    <tr>\n",
              "      <th>887</th>\n",
              "      <td>0.233476</td>\n",
              "      <td>0</td>\n",
              "      <td>0</td>\n",
              "      <td>0.058556</td>\n",
              "      <td>1.0</td>\n",
              "      <td>1.0</td>\n",
              "      <td>0.0</td>\n",
              "      <td>0.0</td>\n",
              "      <td>0.0</td>\n",
              "      <td>0.0</td>\n",
              "      <td>1.0</td>\n",
              "    </tr>\n",
              "    <tr>\n",
              "      <th>888</th>\n",
              "      <td>0.346569</td>\n",
              "      <td>1</td>\n",
              "      <td>2</td>\n",
              "      <td>0.045771</td>\n",
              "      <td>1.0</td>\n",
              "      <td>1.0</td>\n",
              "      <td>0.0</td>\n",
              "      <td>0.0</td>\n",
              "      <td>1.0</td>\n",
              "      <td>0.0</td>\n",
              "      <td>0.0</td>\n",
              "    </tr>\n",
              "    <tr>\n",
              "      <th>889</th>\n",
              "      <td>0.321438</td>\n",
              "      <td>0</td>\n",
              "      <td>0</td>\n",
              "      <td>0.058556</td>\n",
              "      <td>0.0</td>\n",
              "      <td>0.0</td>\n",
              "      <td>1.0</td>\n",
              "      <td>0.0</td>\n",
              "      <td>0.0</td>\n",
              "      <td>0.0</td>\n",
              "      <td>1.0</td>\n",
              "    </tr>\n",
              "    <tr>\n",
              "      <th>890</th>\n",
              "      <td>0.396833</td>\n",
              "      <td>0</td>\n",
              "      <td>0</td>\n",
              "      <td>0.015127</td>\n",
              "      <td>0.0</td>\n",
              "      <td>0.0</td>\n",
              "      <td>0.0</td>\n",
              "      <td>1.0</td>\n",
              "      <td>1.0</td>\n",
              "      <td>0.0</td>\n",
              "      <td>0.0</td>\n",
              "    </tr>\n",
              "  </tbody>\n",
              "</table>\n",
              "<p>891 rows × 11 columns</p>\n",
              "</div>"
            ],
            "text/plain": [
              "          Age  SibSp  Parch  ...  Class_Lower  Class_Middle  Class_Upper\n",
              "0    0.271174      1      0  ...          1.0           0.0          0.0\n",
              "1    0.472229      1      0  ...          0.0           0.0          1.0\n",
              "2    0.321438      0      0  ...          1.0           0.0          0.0\n",
              "3    0.434531      1      0  ...          0.0           0.0          1.0\n",
              "4    0.434531      0      0  ...          1.0           0.0          0.0\n",
              "..        ...    ...    ...  ...          ...           ...          ...\n",
              "886  0.334004      0      0  ...          0.0           1.0          0.0\n",
              "887  0.233476      0      0  ...          0.0           0.0          1.0\n",
              "888  0.346569      1      2  ...          1.0           0.0          0.0\n",
              "889  0.321438      0      0  ...          0.0           0.0          1.0\n",
              "890  0.396833      0      0  ...          1.0           0.0          0.0\n",
              "\n",
              "[891 rows x 11 columns]"
            ]
          },
          "metadata": {
            "tags": []
          },
          "execution_count": 751
        }
      ]
    },
    {
      "cell_type": "code",
      "metadata": {
        "id": "g-R5dWmuTXrB",
        "colab_type": "code",
        "colab": {
          "base_uri": "https://localhost:8080/",
          "height": 35
        },
        "outputId": "2a0539f6-a22f-4bb8-8701-5bbea0b1dee1"
      },
      "source": [
        "# Obtener las variables para los modelos\n",
        "NumFields = [\"Age\", \"SibSp\", \"Parch\", \"Fare\", \"Sex\", \n",
        "             \"Embarked_S\", \"Embarked_C\", \"Embarked_Q\", \n",
        "             \"Class_Lower\", \"Class_Middle\", \"Class_Upper\"]\n",
        "\n",
        "y = titanic_dt[\"Survived\"].values\n",
        "X = titanic_dt[NumFields].values\n",
        "\n",
        "X.shape, y.shape"
      ],
      "execution_count": 635,
      "outputs": [
        {
          "output_type": "execute_result",
          "data": {
            "text/plain": [
              "((891, 11), (891,))"
            ]
          },
          "metadata": {
            "tags": []
          },
          "execution_count": 635
        }
      ]
    },
    {
      "cell_type": "code",
      "metadata": {
        "id": "O5Uj2xsY7-s2",
        "colab_type": "code",
        "colab": {
          "base_uri": "https://localhost:8080/",
          "height": 35
        },
        "outputId": "e3c7660b-8155-4328-e51b-c49fdebfd9f5"
      },
      "source": [
        "\n",
        "\n",
        "X_train_c,X_test,y_train_c,y_test=train_test_split(X,y,test_size=0.2,random_state=0)\n",
        "\n",
        "X_train, X_val, y_train, y_val = train_test_split(X_train_c, y_train_c, \n",
        "                                                  test_size = 0.2, \n",
        "                                                  random_state = 0)\n",
        "\n",
        "X_train.shape, X_val.shape, X_test.shape"
      ],
      "execution_count": 636,
      "outputs": [
        {
          "output_type": "execute_result",
          "data": {
            "text/plain": [
              "((569, 11), (143, 11), (179, 11))"
            ]
          },
          "metadata": {
            "tags": []
          },
          "execution_count": 636
        }
      ]
    },
    {
      "cell_type": "code",
      "metadata": {
        "id": "QHAJGCPYxeJw",
        "colab_type": "code",
        "colab": {
          "base_uri": "https://localhost:8080/",
          "height": 191
        },
        "outputId": "0d12021c-3031-4bdb-80e0-7c1866c61a89"
      },
      "source": [
        "\n",
        "print(\"Range: \", X_train.ndim)\n",
        "print(\"Format: \", X_train.shape)\n",
        "print(\"Type: \", type(X_train))\n",
        "print(X_train)"
      ],
      "execution_count": 637,
      "outputs": [
        {
          "output_type": "stream",
          "text": [
            "Range:  2\n",
            "Format:  (569, 11)\n",
            "Type:  <class 'numpy.ndarray'>\n",
            "[[0.43453129 1.         0.         ... 0.         0.         1.        ]\n",
            " [0.4722292  0.         0.         ... 1.         0.         0.        ]\n",
            " [0.34656949 0.         0.         ... 1.         0.         0.        ]\n",
            " ...\n",
            " [0.28373963 0.         0.         ... 0.         1.         0.        ]\n",
            " [0.04498618 0.         2.         ... 1.         0.         0.        ]\n",
            " [0.37170143 0.         0.         ... 0.         0.         1.        ]]\n"
          ],
          "name": "stdout"
        }
      ]
    },
    {
      "cell_type": "code",
      "metadata": {
        "id": "oFiRhadayeOn",
        "colab_type": "code",
        "colab": {
          "base_uri": "https://localhost:8080/",
          "height": 191
        },
        "outputId": "569c11aa-5063-4c6c-ad7a-8f6aef07fda2"
      },
      "source": [
        "print(\"Range: \",  X_val.ndim)\n",
        "print(\"Format: \",  X_val.shape)\n",
        "print(\"Type: \", type( X_val))\n",
        "print( X_val)"
      ],
      "execution_count": 638,
      "outputs": [
        {
          "output_type": "stream",
          "text": [
            "Range:  2\n",
            "Format:  (143, 11)\n",
            "Type:  <class 'numpy.ndarray'>\n",
            "[[0.45966323 1.         0.         ... 0.         0.         1.        ]\n",
            " [0.34656949 1.         0.         ... 1.         0.         0.        ]\n",
            " [0.50992712 0.         0.         ... 1.         0.         0.        ]\n",
            " ...\n",
            " [0.37170143 0.         0.         ... 1.         0.         0.        ]\n",
            " [0.2963056  0.         0.         ... 0.         0.         1.        ]\n",
            " [0.42196532 0.         0.         ... 1.         0.         0.        ]]\n"
          ],
          "name": "stdout"
        }
      ]
    },
    {
      "cell_type": "markdown",
      "metadata": {
        "id": "2G_ubTuW8tAm",
        "colab_type": "text"
      },
      "source": [
        "Modelos"
      ]
    },
    {
      "cell_type": "markdown",
      "metadata": {
        "id": "Pj0KqCUyJ-_V",
        "colab_type": "text"
      },
      "source": [
        "**SVM**"
      ]
    },
    {
      "cell_type": "code",
      "metadata": {
        "id": "E90SxrKsHKW6",
        "colab_type": "code",
        "colab": {
          "base_uri": "https://localhost:8080/",
          "height": 35
        },
        "outputId": "3bde59ef-cb45-4d41-f630-4ab185a30037"
      },
      "source": [
        "\n",
        "\n",
        "\n",
        "svm_model = Pipeline([\n",
        "    (\"scaler\", StandardScaler()),\n",
        "    (\"svc\", SVC(C = 10., kernel='rbf', gamma = 0.01, tol = 0.001, max_iter = 5000))\n",
        "])\n",
        "\n",
        "\n",
        "svm_model.fit(X_train, y_train.reshape(len(y_train), ));\n",
        "svm_model.score(X_train, y_train), svm_model.score(X_val, y_val)"
      ],
      "execution_count": 639,
      "outputs": [
        {
          "output_type": "execute_result",
          "data": {
            "text/plain": [
              "(0.8418277680140598, 0.7832167832167832)"
            ]
          },
          "metadata": {
            "tags": []
          },
          "execution_count": 639
        }
      ]
    },
    {
      "cell_type": "code",
      "metadata": {
        "id": "PDWQSZuscBjM",
        "colab_type": "code",
        "colab": {
          "base_uri": "https://localhost:8080/",
          "height": 87
        },
        "outputId": "0c801cb1-ec6b-40d3-cb3c-1ef6f107c464"
      },
      "source": [
        "y_pred = svm_model.predict(X_val)\n",
        "(metrics.accuracy_score(y_val, y_pred, normalize=True), \n",
        "    metrics.f1_score(y_val, y_pred), \n",
        "    metrics.precision_score(y_val, y_pred), \n",
        "    metrics.recall_score(y_val, y_pred, average='weighted'))"
      ],
      "execution_count": 640,
      "outputs": [
        {
          "output_type": "execute_result",
          "data": {
            "text/plain": [
              "(0.7832167832167832,\n",
              " 0.7102803738317757,\n",
              " 0.8085106382978723,\n",
              " 0.7832167832167832)"
            ]
          },
          "metadata": {
            "tags": []
          },
          "execution_count": 640
        }
      ]
    },
    {
      "cell_type": "code",
      "metadata": {
        "id": "LZxFpFdycy0s",
        "colab_type": "code",
        "colab": {}
      },
      "source": [
        "def SVM(X, y, C_param): \n",
        "    \n",
        "    svm_model = Pipeline([\n",
        "    (\"scaler\", StandardScaler()),\n",
        "    (\"svc\", SVC(C = C_param, kernel='rbf', tol = 0.001, max_iter = 5000))])\n",
        "    \n",
        "   \n",
        "    svm_model.fit(X, y.reshape(len(y), ))\n",
        "    \n",
        "    return svm_model"
      ],
      "execution_count": 641,
      "outputs": []
    },
    {
      "cell_type": "code",
      "metadata": {
        "id": "uScr3XKuXMg_",
        "colab_type": "code",
        "colab": {}
      },
      "source": [
        "def getM(modelo, X_train, y_train, X_val, y_val):\n",
        "    \n",
        "    y_pred = modelo.predict(X_train)\n",
        "    trainMetrics = [ metrics.accuracy_score(y_train, y_pred, normalize=True), \n",
        "                     metrics.f1_score(y_train, y_pred), \n",
        "                     metrics.precision_score(y_train, y_pred), \n",
        "                     metrics.recall_score(y_train, y_pred, average='weighted')]\n",
        "    \n",
        "\n",
        "    y_pred = modelo.predict(X_val)\n",
        "    validationMetrics = [metrics.accuracy_score(y_val, y_pred, normalize=True), \n",
        "                    metrics.f1_score(y_val, y_pred), \n",
        "                    metrics.precision_score(y_val, y_pred), \n",
        "                    metrics.recall_score(y_val, y_pred, average='weighted')]\n",
        "    \n",
        "    return trainMetrics, validationMetrics"
      ],
      "execution_count": 642,
      "outputs": []
    },
    {
      "cell_type": "markdown",
      "metadata": {
        "id": "gDXV4bP_0qMS",
        "colab_type": "text"
      },
      "source": [
        "**Grid-search**"
      ]
    },
    {
      "cell_type": "code",
      "metadata": {
        "id": "jxzk2YAnh1mV",
        "colab_type": "code",
        "colab": {}
      },
      "source": [
        "\n",
        "C_param_list = [0.1, 0.5, 1., 2., 3., 4., 5., 6., 7., 8., 9., 10., 15., 20., 25.]\n",
        "trainMetricslist = []\n",
        "valMetricslist = []\n",
        "for c in C_param_list:\n",
        "    svm = SVM(X_train, y_train, C_param = c)\n",
        "    trainMetrics, valMetrics = getM(svm, X_train, y_train, X_val, y_val)\n",
        "    trainMetricslist.append(trainMetrics.copy())\n",
        "    valMetricslist.append(valMetrics.copy())"
      ],
      "execution_count": 643,
      "outputs": []
    },
    {
      "cell_type": "markdown",
      "metadata": {
        "id": "HQaxtC1_yKRl",
        "colab_type": "text"
      },
      "source": [
        "Tratando the usar K-folds"
      ]
    },
    {
      "cell_type": "code",
      "metadata": {
        "id": "cRmvFPaKySn2",
        "colab_type": "code",
        "colab": {
          "base_uri": "https://localhost:8080/",
          "height": 523
        },
        "outputId": "ac25b172-9788-4db4-be31-7811d72aa597"
      },
      "source": [
        "\n",
        "from sklearn.model_selection import GridSearchCV\n",
        "\n",
        "parameters = {'svc__C' : [0.1, 0.5, 1., 2., 3., 4., 5.], \n",
        "              'svc__gamma' : [0.1, 0.5, 1., 2., 3., 5.]}\n",
        "\n",
        "svc = SVC(gamma=\"scale\")\n",
        "svm_model = Pipeline([\n",
        "    (\"scaler\", StandardScaler()),\n",
        "    (\"svc\", SVC(kernel = 'rbf', tol = 0.001, max_iter = 5000))])\n",
        "\n",
        "clf = GridSearchCV(svm_model, parameters, cv=5, iid=False, verbose=True, n_jobs=4)\n",
        "clf.fit(X_train_c, y_train_c)"
      ],
      "execution_count": 644,
      "outputs": [
        {
          "output_type": "stream",
          "text": [
            "Fitting 5 folds for each of 42 candidates, totalling 210 fits\n"
          ],
          "name": "stdout"
        },
        {
          "output_type": "stream",
          "text": [
            "[Parallel(n_jobs=4)]: Using backend LokyBackend with 4 concurrent workers.\n",
            "[Parallel(n_jobs=4)]: Done  56 tasks      | elapsed:    2.6s\n",
            "[Parallel(n_jobs=4)]: Done 210 out of 210 | elapsed:    4.9s finished\n",
            "/usr/local/lib/python3.6/dist-packages/sklearn/model_selection/_search.py:823: FutureWarning: The parameter 'iid' is deprecated in 0.22 and will be removed in 0.24.\n",
            "  \"removed in 0.24.\", FutureWarning\n"
          ],
          "name": "stderr"
        },
        {
          "output_type": "execute_result",
          "data": {
            "text/plain": [
              "GridSearchCV(cv=5, error_score=nan,\n",
              "             estimator=Pipeline(memory=None,\n",
              "                                steps=[('scaler',\n",
              "                                        StandardScaler(copy=True,\n",
              "                                                       with_mean=True,\n",
              "                                                       with_std=True)),\n",
              "                                       ('svc',\n",
              "                                        SVC(C=1.0, break_ties=False,\n",
              "                                            cache_size=200, class_weight=None,\n",
              "                                            coef0=0.0,\n",
              "                                            decision_function_shape='ovr',\n",
              "                                            degree=3, gamma='scale',\n",
              "                                            kernel='rbf', max_iter=5000,\n",
              "                                            probability=False,\n",
              "                                            random_state=None, shrinking=True,\n",
              "                                            tol=0.001, verbose=False))],\n",
              "                                verbose=False),\n",
              "             iid=False, n_jobs=4,\n",
              "             param_grid={'svc__C': [0.1, 0.5, 1.0, 2.0, 3.0, 4.0, 5.0],\n",
              "                         'svc__gamma': [0.1, 0.5, 1.0, 2.0, 3.0, 5.0]},\n",
              "             pre_dispatch='2*n_jobs', refit=True, return_train_score=False,\n",
              "             scoring=None, verbose=True)"
            ]
          },
          "metadata": {
            "tags": []
          },
          "execution_count": 644
        }
      ]
    },
    {
      "cell_type": "markdown",
      "metadata": {
        "id": "wYpflEXc8TE0",
        "colab_type": "text"
      },
      "source": [
        "**job Library**"
      ]
    },
    {
      "cell_type": "code",
      "metadata": {
        "id": "yxQKylzbp4wk",
        "colab_type": "code",
        "colab": {
          "base_uri": "https://localhost:8080/",
          "height": 35
        },
        "outputId": "6f4c32b7-0d30-4f14-e502-753bc66a429b"
      },
      "source": [
        "\n",
        "# Mejor modelo de SVM\n",
        "svm_final = SVM(X_train, y_train, C_param = 9)\n",
        "\n",
        "# Se guarda el mejor modelo\n",
        "joblib.dump(svm_final, \"/content/gdrive/My Drive/svm.pkl\")\n"
      ],
      "execution_count": 645,
      "outputs": [
        {
          "output_type": "execute_result",
          "data": {
            "text/plain": [
              "['/content/gdrive/My Drive/svm.pkl']"
            ]
          },
          "metadata": {
            "tags": []
          },
          "execution_count": 645
        }
      ]
    },
    {
      "cell_type": "markdown",
      "metadata": {
        "id": "vQ6Nv4OsHGQD",
        "colab_type": "text"
      },
      "source": [
        "**Decision Tree**"
      ]
    },
    {
      "cell_type": "code",
      "metadata": {
        "id": "zgsEH4yl9Ari",
        "colab_type": "code",
        "colab": {
          "base_uri": "https://localhost:8080/",
          "height": 121
        },
        "outputId": "e70270a2-c1c3-4873-93b4-573f4cf3604d"
      },
      "source": [
        "\n",
        "def Dec_tree(X, y, max_depth): \n",
        "   \n",
        "    tree_model = tree.DecisionTreeClassifier(max_depth = max_depth)\n",
        "    tree_model.fit(X, y)\n",
        "\n",
        "    return tree_model\n",
        "\n",
        "Dec_tree(X_train, y_train, 2)"
      ],
      "execution_count": 646,
      "outputs": [
        {
          "output_type": "execute_result",
          "data": {
            "text/plain": [
              "DecisionTreeClassifier(ccp_alpha=0.0, class_weight=None, criterion='gini',\n",
              "                       max_depth=2, max_features=None, max_leaf_nodes=None,\n",
              "                       min_impurity_decrease=0.0, min_impurity_split=None,\n",
              "                       min_samples_leaf=1, min_samples_split=2,\n",
              "                       min_weight_fraction_leaf=0.0, presort='deprecated',\n",
              "                       random_state=None, splitter='best')"
            ]
          },
          "metadata": {
            "tags": []
          },
          "execution_count": 646
        }
      ]
    },
    {
      "cell_type": "code",
      "metadata": {
        "id": "CzsCc-IZ9Gcf",
        "colab_type": "code",
        "colab": {}
      },
      "source": [
        "trainMetricslist = []\n",
        "valMetricslist = []\n",
        "depth_list = [2, 3, 4, 5, 6, 7, 8, 9, 10, 11, 12]\n",
        "for depth in depth_list: \n",
        "    tree_model = Dec_tree(X_train, y_train, depth)\n",
        "    trainMetrics, valMetrics = getM(tree_model, X_train, y_train, X_val, y_val)\n",
        "    trainMetricslist.append(trainMetrics.copy())\n",
        "    valMetricslist.append(valMetrics.copy())"
      ],
      "execution_count": 647,
      "outputs": []
    },
    {
      "cell_type": "code",
      "metadata": {
        "id": "i3zjzqLcYXf-",
        "colab_type": "code",
        "colab": {
          "base_uri": "https://localhost:8080/",
          "height": 386
        },
        "outputId": "e2173d8e-1d23-4cc5-ae95-1a1fee703cf6"
      },
      "source": [
        "treeResults = pd.DataFrame(np.column_stack((depth_list, np.array(trainMetricslist), np.array(valMetricslist))), \n",
        "                             columns = ['Depth', 'AccuracyTrain', 'F1Train', 'PrecisionTrain', 'RecallTrain', \n",
        "                                       'AccuracyVal', 'F1Val', 'PrecisionVal', 'RecallVal'])\n",
        "treeResults"
      ],
      "execution_count": 648,
      "outputs": [
        {
          "output_type": "execute_result",
          "data": {
            "text/html": [
              "<div>\n",
              "<style scoped>\n",
              "    .dataframe tbody tr th:only-of-type {\n",
              "        vertical-align: middle;\n",
              "    }\n",
              "\n",
              "    .dataframe tbody tr th {\n",
              "        vertical-align: top;\n",
              "    }\n",
              "\n",
              "    .dataframe thead th {\n",
              "        text-align: right;\n",
              "    }\n",
              "</style>\n",
              "<table border=\"1\" class=\"dataframe\">\n",
              "  <thead>\n",
              "    <tr style=\"text-align: right;\">\n",
              "      <th></th>\n",
              "      <th>Depth</th>\n",
              "      <th>AccuracyTrain</th>\n",
              "      <th>F1Train</th>\n",
              "      <th>PrecisionTrain</th>\n",
              "      <th>RecallTrain</th>\n",
              "      <th>AccuracyVal</th>\n",
              "      <th>F1Val</th>\n",
              "      <th>PrecisionVal</th>\n",
              "      <th>RecallVal</th>\n",
              "    </tr>\n",
              "  </thead>\n",
              "  <tbody>\n",
              "    <tr>\n",
              "      <th>0</th>\n",
              "      <td>2.0</td>\n",
              "      <td>0.806678</td>\n",
              "      <td>0.745370</td>\n",
              "      <td>0.735160</td>\n",
              "      <td>0.806678</td>\n",
              "      <td>0.734266</td>\n",
              "      <td>0.683333</td>\n",
              "      <td>0.683333</td>\n",
              "      <td>0.734266</td>\n",
              "    </tr>\n",
              "    <tr>\n",
              "      <th>1</th>\n",
              "      <td>3.0</td>\n",
              "      <td>0.850615</td>\n",
              "      <td>0.790123</td>\n",
              "      <td>0.833333</td>\n",
              "      <td>0.850615</td>\n",
              "      <td>0.762238</td>\n",
              "      <td>0.685185</td>\n",
              "      <td>0.770833</td>\n",
              "      <td>0.762238</td>\n",
              "    </tr>\n",
              "    <tr>\n",
              "      <th>2</th>\n",
              "      <td>4.0</td>\n",
              "      <td>0.854130</td>\n",
              "      <td>0.795062</td>\n",
              "      <td>0.838542</td>\n",
              "      <td>0.854130</td>\n",
              "      <td>0.762238</td>\n",
              "      <td>0.685185</td>\n",
              "      <td>0.770833</td>\n",
              "      <td>0.762238</td>\n",
              "    </tr>\n",
              "    <tr>\n",
              "      <th>3</th>\n",
              "      <td>5.0</td>\n",
              "      <td>0.875220</td>\n",
              "      <td>0.811671</td>\n",
              "      <td>0.932927</td>\n",
              "      <td>0.875220</td>\n",
              "      <td>0.741259</td>\n",
              "      <td>0.633663</td>\n",
              "      <td>0.780488</td>\n",
              "      <td>0.741259</td>\n",
              "    </tr>\n",
              "    <tr>\n",
              "      <th>4</th>\n",
              "      <td>6.0</td>\n",
              "      <td>0.894552</td>\n",
              "      <td>0.850746</td>\n",
              "      <td>0.904762</td>\n",
              "      <td>0.894552</td>\n",
              "      <td>0.734266</td>\n",
              "      <td>0.660714</td>\n",
              "      <td>0.711538</td>\n",
              "      <td>0.734266</td>\n",
              "    </tr>\n",
              "    <tr>\n",
              "      <th>5</th>\n",
              "      <td>7.0</td>\n",
              "      <td>0.910369</td>\n",
              "      <td>0.875912</td>\n",
              "      <td>0.909091</td>\n",
              "      <td>0.910369</td>\n",
              "      <td>0.734266</td>\n",
              "      <td>0.672414</td>\n",
              "      <td>0.696429</td>\n",
              "      <td>0.734266</td>\n",
              "    </tr>\n",
              "    <tr>\n",
              "      <th>6</th>\n",
              "      <td>8.0</td>\n",
              "      <td>0.927944</td>\n",
              "      <td>0.896725</td>\n",
              "      <td>0.967391</td>\n",
              "      <td>0.927944</td>\n",
              "      <td>0.741259</td>\n",
              "      <td>0.660550</td>\n",
              "      <td>0.734694</td>\n",
              "      <td>0.741259</td>\n",
              "    </tr>\n",
              "    <tr>\n",
              "      <th>7</th>\n",
              "      <td>9.0</td>\n",
              "      <td>0.947276</td>\n",
              "      <td>0.925743</td>\n",
              "      <td>0.979058</td>\n",
              "      <td>0.947276</td>\n",
              "      <td>0.727273</td>\n",
              "      <td>0.635514</td>\n",
              "      <td>0.723404</td>\n",
              "      <td>0.727273</td>\n",
              "    </tr>\n",
              "    <tr>\n",
              "      <th>8</th>\n",
              "      <td>10.0</td>\n",
              "      <td>0.959578</td>\n",
              "      <td>0.943210</td>\n",
              "      <td>0.994792</td>\n",
              "      <td>0.959578</td>\n",
              "      <td>0.727273</td>\n",
              "      <td>0.642202</td>\n",
              "      <td>0.714286</td>\n",
              "      <td>0.727273</td>\n",
              "    </tr>\n",
              "    <tr>\n",
              "      <th>9</th>\n",
              "      <td>11.0</td>\n",
              "      <td>0.964851</td>\n",
              "      <td>0.950739</td>\n",
              "      <td>1.000000</td>\n",
              "      <td>0.964851</td>\n",
              "      <td>0.713287</td>\n",
              "      <td>0.630631</td>\n",
              "      <td>0.686275</td>\n",
              "      <td>0.713287</td>\n",
              "    </tr>\n",
              "    <tr>\n",
              "      <th>10</th>\n",
              "      <td>12.0</td>\n",
              "      <td>0.970123</td>\n",
              "      <td>0.958637</td>\n",
              "      <td>0.994949</td>\n",
              "      <td>0.970123</td>\n",
              "      <td>0.727273</td>\n",
              "      <td>0.648649</td>\n",
              "      <td>0.705882</td>\n",
              "      <td>0.727273</td>\n",
              "    </tr>\n",
              "  </tbody>\n",
              "</table>\n",
              "</div>"
            ],
            "text/plain": [
              "    Depth  AccuracyTrain   F1Train  ...     F1Val  PrecisionVal  RecallVal\n",
              "0     2.0       0.806678  0.745370  ...  0.683333      0.683333   0.734266\n",
              "1     3.0       0.850615  0.790123  ...  0.685185      0.770833   0.762238\n",
              "2     4.0       0.854130  0.795062  ...  0.685185      0.770833   0.762238\n",
              "3     5.0       0.875220  0.811671  ...  0.633663      0.780488   0.741259\n",
              "4     6.0       0.894552  0.850746  ...  0.660714      0.711538   0.734266\n",
              "5     7.0       0.910369  0.875912  ...  0.672414      0.696429   0.734266\n",
              "6     8.0       0.927944  0.896725  ...  0.660550      0.734694   0.741259\n",
              "7     9.0       0.947276  0.925743  ...  0.635514      0.723404   0.727273\n",
              "8    10.0       0.959578  0.943210  ...  0.642202      0.714286   0.727273\n",
              "9    11.0       0.964851  0.950739  ...  0.630631      0.686275   0.713287\n",
              "10   12.0       0.970123  0.958637  ...  0.648649      0.705882   0.727273\n",
              "\n",
              "[11 rows x 9 columns]"
            ]
          },
          "metadata": {
            "tags": []
          },
          "execution_count": 648
        }
      ]
    },
    {
      "cell_type": "code",
      "metadata": {
        "id": "f6zXsBxVYmJR",
        "colab_type": "code",
        "colab": {
          "base_uri": "https://localhost:8080/",
          "height": 35
        },
        "outputId": "eb81f11d-303b-412d-c80a-43fe192814bf"
      },
      "source": [
        "\n",
        "tree_final = Dec_tree(X_train_c, y_train_c, max_depth = 9)\n",
        "\n",
        "\n",
        "joblib.dump(tree_final, \"/content/gdrive/My Drive/decision_tree.pkl\")\n",
        "\n",
        "\n",
        "(metrics.accuracy_score(y_train, tree_final.predict(X_train)), \n",
        "metrics.accuracy_score(y_val, tree_final.predict(X_val)), \n",
        "metrics.accuracy_score(y_train_c, tree_final.predict(X_train_c)))"
      ],
      "execution_count": 649,
      "outputs": [
        {
          "output_type": "execute_result",
          "data": {
            "text/plain": [
              "(0.9226713532513181, 0.9020979020979021, 0.9185393258426966)"
            ]
          },
          "metadata": {
            "tags": []
          },
          "execution_count": 649
        }
      ]
    },
    {
      "cell_type": "markdown",
      "metadata": {
        "id": "obWoAzsSkXNH",
        "colab_type": "text"
      },
      "source": [
        "**Naive**"
      ]
    },
    {
      "cell_type": "code",
      "metadata": {
        "id": "xQN8AQ6r8Yfb",
        "colab_type": "code",
        "colab": {}
      },
      "source": [
        "\n",
        "def probFeature(pdDataFrame, featureName, x, qsize):\n",
        "\n",
        "    f, bins_f = pd.qcut(pdDataFrame[featureName], qsize, retbins=True, duplicates='drop')\n",
        "\n",
        "    rango = pd.cut(x, bins = bins_f)\n",
        "    \n",
        "\n",
        "    if rango.isnull().any():\n",
        "        return 0, bins_f\n",
        "    \n",
        "    return (f.value_counts()[rango] / len(f)).values, bins_f\n",
        "\n",
        "\n",
        "\n",
        "def probFeatureD(pdDataFrame, featureName, x, className, label, bins_f):\n",
        "\n",
        "    f = pd.cut(pdDataFrame.loc[pdDataFrame[className] == label , featureName], \n",
        "               bins = bins_f, include_lowest=True)\n",
        "\n",
        "    rango = pd.cut(x, bins = bins_f, include_lowest=True)\n",
        "    \n",
        "\n",
        "    if rango.isnull().any():\n",
        "        return np.zeros(len(x))\n",
        "    \n",
        "    return (f.value_counts()[rango] / len(f)).values\n",
        "\n",
        "    \n",
        "\n",
        "def probLabel(pdDataFrame, className, label):\n",
        "    p = pdDataFrame.loc[pdDataFrame[className] == label, className].count() / len(pdDataFrame)\n",
        "    return p\n",
        "\n",
        "def probLabelD(pdDataFrame, featureName, x, className, label):\n",
        "\n",
        "    pClass = pdDataFrame.loc[(pdDataFrame[className] == label), featureName].count()\n",
        "    \n",
        "    pInt = pdDataFrame.loc[(pdDataFrame[className] == label)&(pdDataFrame[featureName] == 1), featureName].count()\n",
        "    \n",
        "    pLabel = pInt/pClass\n",
        "    pNotLabel = 1. - pLabel\n",
        "    prob = np.array([pNotLabel, pLabel])\n",
        "    \n",
        "    return prob[x.astype(int)]\n",
        "    \n",
        "\n",
        "def predecirNB(Titanic, TitanicEval):\n",
        "    age = TitanicEval.Age.values\n",
        "    fare = TitanicEval.Fare.values\n",
        "\n",
        "    \n",
        "    _, binsAge = probFeature(Titanic, \"Age\", age, 5)\n",
        "    _, binsFare = probFeature(Titanic, \"Fare\", fare, 5)\n",
        "\n",
        " \n",
        "    BinaryFields = [\"Sex\"]\n",
        "    \n",
        "    survived_list = [0,1]\n",
        "    p_survived = []\n",
        "   \n",
        "    for survived in survived_list:\n",
        "        \n",
        "        pAgeGivenS = probFeatureD(Titanic, \"Age\", age, \"Survived\", survived, binsAge)\n",
        "        pFareGivenS = probFeatureD(Titanic, \"Fare\", fare, \"Survived\", survived, binsFare)\n",
        "\n",
        "       \n",
        "        pbinaryFeature = np.ones(len(TitanicEval.values))\n",
        "        for binaryFeature in BinaryFields:\n",
        "            pbinaryFeature = probLabelD(Titanic, binaryFeature, \n",
        "                                                TitanicEval[binaryFeature].values, \n",
        "                                                \"Survived\", survived)\n",
        "\n",
        "        \n",
        "        pSurvived = probLabel(Titanic, \"Survived\", survived)\n",
        "       \n",
        "        p_survived.append( (pAgeGivenS * pFareGivenS * pbinaryFeature) * pSurvived )\n",
        "\n",
        "  \n",
        "    p_survived = np.array(p_survived)\n",
        "    p_survived_yes = p_survived[1,:] / np.sum(p_survived, axis=0)\n",
        "    \n",
        "    return np.array([p > 0.5 for p in p_survived_yes]).astype(np.float)\n"
      ],
      "execution_count": 650,
      "outputs": []
    },
    {
      "cell_type": "code",
      "metadata": {
        "id": "uaWA6Q8HW2gH",
        "colab_type": "code",
        "colab": {}
      },
      "source": [
        "fields = [\"Age\", \"Fare\", \"Sex\", \"Embarked_S\", \"Embarked_C\", \"Embarked_Q\", \n",
        "             \"Class_Lower\", \"Class_Middle\", \"Class_Upper\", \"Survived\"]\n",
        "Filter = [0,3,4,5,6,7,8,9,10]\n",
        "\n",
        "\n",
        "\n",
        "\n",
        "Titanic_t = pd.DataFrame(np.column_stack(\n",
        "    (X_train[:, Filter], y_train)), columns=fields)"
      ],
      "execution_count": 651,
      "outputs": []
    },
    {
      "cell_type": "code",
      "metadata": {
        "id": "6AwslSpKzDVE",
        "colab_type": "code",
        "colab": {
          "base_uri": "https://localhost:8080/",
          "height": 35
        },
        "outputId": "f411f8ee-975b-4492-e5a5-c06ff2c26e12"
      },
      "source": [
        "\n",
        "yhat_NBmanual_train = predecirNB(Titanic_t, Titanic_t)\n",
        "yhat_NBmanual_train\n",
        "\n",
        "\n",
        "metrics.accuracy_score(y_train, yhat_NBmanual_train)"
      ],
      "execution_count": 652,
      "outputs": [
        {
          "output_type": "execute_result",
          "data": {
            "text/plain": [
              "0.7996485061511424"
            ]
          },
          "metadata": {
            "tags": []
          },
          "execution_count": 652
        }
      ]
    },
    {
      "cell_type": "code",
      "metadata": {
        "id": "DIyahWWdCwoe",
        "colab_type": "code",
        "colab": {}
      },
      "source": [
        "NBFieldsEval = [\"Age\", \"Fare\", \"Sex\", \"Embarked_S\", \"Embarked_C\", \"Embarked_Q\", \n",
        "             \"Class_Lower\", \"Class_Middle\", \"Class_Upper\"]\n",
        "Filter_q = [0,3,4,5,6,7,8,9,10]\n",
        "eval = pd.DataFrame((X_val[:, Filter]), columns=NBFieldsEval)"
      ],
      "execution_count": 653,
      "outputs": []
    },
    {
      "cell_type": "code",
      "metadata": {
        "id": "7gtj7GE9PaB6",
        "colab_type": "code",
        "colab": {
          "base_uri": "https://localhost:8080/",
          "height": 156
        },
        "outputId": "9ba6b774-4a01-4ee9-b5cc-4b7b03f41f4a"
      },
      "source": [
        "print(eval.index.values)"
      ],
      "execution_count": 654,
      "outputs": [
        {
          "output_type": "stream",
          "text": [
            "[  0   1   2   3   4   5   6   7   8   9  10  11  12  13  14  15  16  17\n",
            "  18  19  20  21  22  23  24  25  26  27  28  29  30  31  32  33  34  35\n",
            "  36  37  38  39  40  41  42  43  44  45  46  47  48  49  50  51  52  53\n",
            "  54  55  56  57  58  59  60  61  62  63  64  65  66  67  68  69  70  71\n",
            "  72  73  74  75  76  77  78  79  80  81  82  83  84  85  86  87  88  89\n",
            "  90  91  92  93  94  95  96  97  98  99 100 101 102 103 104 105 106 107\n",
            " 108 109 110 111 112 113 114 115 116 117 118 119 120 121 122 123 124 125\n",
            " 126 127 128 129 130 131 132 133 134 135 136 137 138 139 140 141 142]\n"
          ],
          "name": "stdout"
        }
      ]
    },
    {
      "cell_type": "code",
      "metadata": {
        "id": "KJYB9Mna_iSY",
        "colab_type": "code",
        "colab": {
          "base_uri": "https://localhost:8080/",
          "height": 35
        },
        "outputId": "cb7d06c8-ef0b-4bf8-ef99-25c0797e6ae9"
      },
      "source": [
        "yhat_NB = predecirNB(Titanic_t,eval)\n",
        "yhat_NB\n",
        "\n",
        "metrics.accuracy_score(y_val,yhat_NB)"
      ],
      "execution_count": 655,
      "outputs": [
        {
          "output_type": "execute_result",
          "data": {
            "text/plain": [
              "0.5804195804195804"
            ]
          },
          "metadata": {
            "tags": []
          },
          "execution_count": 655
        }
      ]
    },
    {
      "cell_type": "code",
      "metadata": {
        "id": "0GGj-ea_xc8c",
        "colab_type": "code",
        "colab": {}
      },
      "source": [
        "# Se guarda el mejor modelo de NB junto con su filtro de variables\n",
        "np.savez(file = \"modeloNBpandas.npz\", NB_Filter = Filter, \n",
        "        NBFieldsEval = NBFieldsEval,\n",
        "        Titanic_train = Titanic_t)"
      ],
      "execution_count": 656,
      "outputs": []
    },
    {
      "cell_type": "code",
      "metadata": {
        "id": "8HRVE-5Akkz3",
        "colab_type": "code",
        "colab": {}
      },
      "source": [
        "def train_log(Xtrain, Ytrain, lr, lambda_val, epochs):\n",
        "    import time\n",
        "    m, k = Xtrain.shape\n",
        "    string = './graphs/'+ datetime.datetime.now().strftime(\"%Y%m%d-%H%M%S\") +\"_lr=\"+str(lr)+ \"_epochs=\"+str(epochs)\n",
        "    tf.reset_default_graph()\n",
        "    g = tf.Graph()\n",
        "\n",
        "    with g.as_default():\n",
        "       \n",
        "        X = tf.placeholder(tf.float32, shape = (None, k), name = \"X\")\n",
        "        Ylabels = tf.placeholder(tf.float32, name = \"Ylabels\")\n",
        "\n",
        "       \n",
        "        lr_param = tf.placeholder(tf.float32, name = \"lr\")\n",
        "        lambda_param = tf.placeholder(tf.float32, name = \"lambda\")\n",
        "\n",
        "        \n",
        "        W = tf.Variable(tf.truncated_normal(shape = [k, 1]), name = \"W\")\n",
        "        b = tf.Variable(tf.truncated_normal(shape = (1, 1)), name = \"b\")\n",
        "        \n",
        "        \n",
        "        with tf.name_scope(\"Logits\"):\n",
        "            Logits = tf.add(tf.matmul(X, W), b, name = \"Logits\")\n",
        "            YlabelsHat = tf.nn.sigmoid(Logits)\n",
        "\n",
        "        \n",
        "        with tf.name_scope(\"FuncionCosto\"):\n",
        "           \n",
        "            w_norm = tf.divide(tf.multiply(tf.multiply(tf.constant(0.5), lambda_param), \n",
        "                                 tf.reduce_sum(tf.square(W))), tf.cast(m, tf.float32), name = \"W_norm\")\n",
        "           \n",
        "            classif_term = tf.reduce_mean(tf.nn.sigmoid_cross_entropy_with_logits(\n",
        "                labels = Ylabels, logits = Logits), name = \"CostoClasif\") \n",
        "           \n",
        "            cost = tf.add(classif_term, w_norm, name=\"Costo\")\n",
        "\n",
        "       \n",
        "        with tf.name_scope(\"GradientDes.Optimizer\"):\n",
        "            optimizer = tf.train.GradientDescentOptimizer(lr_param).minimize(cost) \n",
        "        \n",
        "        \n",
        "        init = tf.global_variables_initializer() \n",
        "        \n",
        "   \n",
        "    \n",
        "    start = time.time()\n",
        "    with tf.Session(graph = g) as sess: \n",
        "       \n",
        "        sess.run(init)\n",
        "       \n",
        "        for epoch in range(epochs):\n",
        "            _, c_ = sess.run([optimizer, cost], \n",
        "                             feed_dict = {X : Xtrain, Ylabels : Ytrain.reshape((m, 1)), \n",
        "                                          lr_param : lr, lambda_param : lambda_val})\n",
        "          \n",
        "            if (epoch + 1) % round(epochs*0.1) == 0:\n",
        "                print(\"Epoch: %d, \\t costo = %0.4f\" % (epoch+1, c_))\n",
        "                \n",
        "  \n",
        "        w_, b_ = sess.run([W, b])\n",
        "        \n",
        "    end = time.time()\n",
        "    \n",
        "    print(\"Tiempo transcurrido: %0.2f segundos\" % (end-start))\n",
        "    \n",
        " \n",
        "    return w_, b_"
      ],
      "execution_count": 657,
      "outputs": []
    },
    {
      "cell_type": "markdown",
      "metadata": {
        "id": "pciRQNXSl9bn",
        "colab_type": "text"
      },
      "source": [
        "**Entrenamiento**"
      ]
    },
    {
      "cell_type": "code",
      "metadata": {
        "id": "HuCPsEw1l8r7",
        "colab_type": "code",
        "colab": {
          "base_uri": "https://localhost:8080/",
          "height": 208
        },
        "outputId": "ba5308a5-11c4-4c9f-b532-7ecf11e46871"
      },
      "source": [
        "w_, b_ = train_log(X_train, y_train, lr = 0.0001, epochs = 1000, lambda_val = 0.2)"
      ],
      "execution_count": 658,
      "outputs": [
        {
          "output_type": "stream",
          "text": [
            "Epoch: 100, \t costo = 0.8698\n",
            "Epoch: 200, \t costo = 0.8693\n",
            "Epoch: 300, \t costo = 0.8687\n",
            "Epoch: 400, \t costo = 0.8681\n",
            "Epoch: 500, \t costo = 0.8675\n",
            "Epoch: 600, \t costo = 0.8669\n",
            "Epoch: 700, \t costo = 0.8663\n",
            "Epoch: 800, \t costo = 0.8658\n",
            "Epoch: 900, \t costo = 0.8652\n",
            "Epoch: 1000, \t costo = 0.8646\n",
            "Tiempo transcurrido: 0.96 segundos\n"
          ],
          "name": "stdout"
        }
      ]
    },
    {
      "cell_type": "code",
      "metadata": {
        "id": "MAfrvKPamtAw",
        "colab_type": "code",
        "colab": {
          "base_uri": "https://localhost:8080/",
          "height": 208
        },
        "outputId": "486584f2-2840-4f1f-b7e2-acc0809a8ea8"
      },
      "source": [
        "w_, b_ = train_log(X_train, y_train, lr = 0.001, epochs = 1000, lambda_val = 0.5)"
      ],
      "execution_count": 659,
      "outputs": [
        {
          "output_type": "stream",
          "text": [
            "Epoch: 100, \t costo = 0.9153\n",
            "Epoch: 200, \t costo = 0.9028\n",
            "Epoch: 300, \t costo = 0.8912\n",
            "Epoch: 400, \t costo = 0.8802\n",
            "Epoch: 500, \t costo = 0.8700\n",
            "Epoch: 600, \t costo = 0.8603\n",
            "Epoch: 700, \t costo = 0.8512\n",
            "Epoch: 800, \t costo = 0.8425\n",
            "Epoch: 900, \t costo = 0.8344\n",
            "Epoch: 1000, \t costo = 0.8267\n",
            "Tiempo transcurrido: 0.96 segundos\n"
          ],
          "name": "stdout"
        }
      ]
    },
    {
      "cell_type": "code",
      "metadata": {
        "id": "B1u7ZW_cgV0I",
        "colab_type": "code",
        "colab": {
          "base_uri": "https://localhost:8080/",
          "height": 208
        },
        "outputId": "dcfd0987-1a0e-4ec7-d5f4-9fbff77a5a47"
      },
      "source": [
        "w_, b_ = train_log(X_train, y_train, lr = 0.01, epochs = 1000, lambda_val = 0.4)"
      ],
      "execution_count": 660,
      "outputs": [
        {
          "output_type": "stream",
          "text": [
            "Epoch: 100, \t costo = 1.0406\n",
            "Epoch: 200, \t costo = 0.8573\n",
            "Epoch: 300, \t costo = 0.7612\n",
            "Epoch: 400, \t costo = 0.7036\n",
            "Epoch: 500, \t costo = 0.6638\n",
            "Epoch: 600, \t costo = 0.6336\n",
            "Epoch: 700, \t costo = 0.6097\n",
            "Epoch: 800, \t costo = 0.5902\n",
            "Epoch: 900, \t costo = 0.5741\n",
            "Epoch: 1000, \t costo = 0.5605\n",
            "Tiempo transcurrido: 0.98 segundos\n"
          ],
          "name": "stdout"
        }
      ]
    },
    {
      "cell_type": "code",
      "metadata": {
        "id": "MOau698ir0kj",
        "colab_type": "code",
        "colab": {}
      },
      "source": [
        "def pred_log(x, weights, b):\n",
        "    #sigmoide\n",
        "    def sigmoid(x):\n",
        "        return (1 / (1 + np.exp(-x)))\n",
        "     \n",
        "    # logits\n",
        "    l = np.matmul(x, weights) + b\n",
        " \n",
        "    y_hat = 1.0*(sigmoid(l) > 0.5)\n",
        "    return y_hat"
      ],
      "execution_count": 661,
      "outputs": []
    },
    {
      "cell_type": "code",
      "metadata": {
        "id": "kbEsOuxPurO6",
        "colab_type": "code",
        "colab": {}
      },
      "source": [
        "def get(w, b, X_train, y_train, X_val, y_val):\n",
        "  \n",
        "    y_pred = pred_log(X_train, w, b)\n",
        "    trainMetrics = [metrics.accuracy_score(y_train, y_pred, normalize=True), \n",
        "                    metrics.f1_score(y_train, y_pred), \n",
        "                    metrics.precision_score(y_train, y_pred), \n",
        "                    metrics.recall_score(y_train, y_pred, average='weighted')]\n",
        "    \n",
        "    # Métricas en datos de entrenamiento\n",
        "    y_pred = pred_log(X_val, w, b)\n",
        "    validationMetrics = [metrics.accuracy_score(y_val, y_pred, normalize=True), \n",
        "                    metrics.f1_score(y_val, y_pred), \n",
        "                   metrics.precision_score(y_val, y_pred), \n",
        "                    metrics.recall_score(y_val, y_pred, average='weighted')]\n",
        "    \n",
        "    return trainMetrics, validationMetrics"
      ],
      "execution_count": 662,
      "outputs": []
    },
    {
      "cell_type": "code",
      "metadata": {
        "id": "XBk8FiBDu3UA",
        "colab_type": "code",
        "colab": {
          "base_uri": "https://localhost:8080/",
          "height": 1000
        },
        "outputId": "92991e7a-7a7a-49b4-ca00-4bd315d2035e"
      },
      "source": [
        "\n",
        "\n",
        "lambda_ = [0.1, 0.5, 1., 2., 3., 4.]\n",
        "trainMetricslist = []\n",
        "valMetricslist = []\n",
        "for lam in lambda_:\n",
        "   \n",
        "    w_, b_ = train_log(X_train[:, Filter], y_train, \n",
        "                                    lr = 0.001, epochs = 1000, \n",
        "                                    lambda_val = lam)\n",
        "  \n",
        "    trainMetrics, valMetrics = get(w_, b_, \n",
        "                                             X_train[:, Filter], y_train, \n",
        "                                             X_val[:, Filter], y_val)\n",
        "    trainMetricslist.append(trainMetrics.copy())\n",
        "    valMetricslist.append(valMetrics.copy())"
      ],
      "execution_count": 663,
      "outputs": [
        {
          "output_type": "stream",
          "text": [
            "Epoch: 100, \t costo = 0.9731\n",
            "Epoch: 200, \t costo = 0.9677\n",
            "Epoch: 300, \t costo = 0.9624\n",
            "Epoch: 400, \t costo = 0.9571\n",
            "Epoch: 500, \t costo = 0.9519\n",
            "Epoch: 600, \t costo = 0.9468\n",
            "Epoch: 700, \t costo = 0.9416\n",
            "Epoch: 800, \t costo = 0.9366\n",
            "Epoch: 900, \t costo = 0.9315\n",
            "Epoch: 1000, \t costo = 0.9266\n",
            "Tiempo transcurrido: 0.97 segundos\n",
            "Epoch: 100, \t costo = 1.0446\n",
            "Epoch: 200, \t costo = 1.0290\n",
            "Epoch: 300, \t costo = 1.0138\n",
            "Epoch: 400, \t costo = 0.9992\n",
            "Epoch: 500, \t costo = 0.9852\n",
            "Epoch: 600, \t costo = 0.9717\n",
            "Epoch: 700, \t costo = 0.9586\n",
            "Epoch: 800, \t costo = 0.9461\n",
            "Epoch: 900, \t costo = 0.9341\n",
            "Epoch: 1000, \t costo = 0.9226\n",
            "Tiempo transcurrido: 0.97 segundos\n",
            "Epoch: 100, \t costo = 0.9868\n",
            "Epoch: 200, \t costo = 0.9575\n",
            "Epoch: 300, \t costo = 0.9303\n",
            "Epoch: 400, \t costo = 0.9053\n",
            "Epoch: 500, \t costo = 0.8822\n",
            "Epoch: 600, \t costo = 0.8610\n",
            "Epoch: 700, \t costo = 0.8415\n",
            "Epoch: 800, \t costo = 0.8236\n",
            "Epoch: 900, \t costo = 0.8072\n",
            "Epoch: 1000, \t costo = 0.7921\n",
            "Tiempo transcurrido: 0.97 segundos\n",
            "Epoch: 100, \t costo = 0.7020\n",
            "Epoch: 200, \t costo = 0.6950\n",
            "Epoch: 300, \t costo = 0.6885\n",
            "Epoch: 400, \t costo = 0.6824\n",
            "Epoch: 500, \t costo = 0.6767\n",
            "Epoch: 600, \t costo = 0.6715\n",
            "Epoch: 700, \t costo = 0.6665\n",
            "Epoch: 800, \t costo = 0.6619\n",
            "Epoch: 900, \t costo = 0.6575\n",
            "Epoch: 1000, \t costo = 0.6534\n",
            "Tiempo transcurrido: 0.97 segundos\n",
            "Epoch: 100, \t costo = 0.9781\n",
            "Epoch: 200, \t costo = 0.9716\n",
            "Epoch: 300, \t costo = 0.9652\n",
            "Epoch: 400, \t costo = 0.9589\n",
            "Epoch: 500, \t costo = 0.9527\n",
            "Epoch: 600, \t costo = 0.9466\n",
            "Epoch: 700, \t costo = 0.9405\n",
            "Epoch: 800, \t costo = 0.9345\n",
            "Epoch: 900, \t costo = 0.9286\n",
            "Epoch: 1000, \t costo = 0.9228\n",
            "Tiempo transcurrido: 0.94 segundos\n",
            "Epoch: 100, \t costo = 0.8144\n",
            "Epoch: 200, \t costo = 0.8111\n",
            "Epoch: 300, \t costo = 0.8079\n",
            "Epoch: 400, \t costo = 0.8047\n",
            "Epoch: 500, \t costo = 0.8016\n",
            "Epoch: 600, \t costo = 0.7986\n",
            "Epoch: 700, \t costo = 0.7956\n",
            "Epoch: 800, \t costo = 0.7926\n",
            "Epoch: 900, \t costo = 0.7897\n",
            "Epoch: 1000, \t costo = 0.7868\n",
            "Tiempo transcurrido: 0.95 segundos\n"
          ],
          "name": "stdout"
        }
      ]
    },
    {
      "cell_type": "markdown",
      "metadata": {
        "id": "NY_s8Ssavwis",
        "colab_type": "text"
      },
      "source": [
        "**Logistic Regresssion Results:**\n",
        "\n"
      ]
    },
    {
      "cell_type": "code",
      "metadata": {
        "id": "nQY6-B9Dv5CL",
        "colab_type": "code",
        "colab": {
          "base_uri": "https://localhost:8080/",
          "height": 233
        },
        "outputId": "1ca2b1b7-5be1-4713-9f36-233daca7bc84"
      },
      "source": [
        "LogResults = pd.DataFrame(np.column_stack((lambda_, np.array(trainMetricslist), np.array(valMetricslist))), \n",
        "                             columns = ['Lambda', 'AccuracyTrain', 'F1Train', 'PrecisionTrain', 'RecallTrain', \n",
        "                                       'AccuracyVal', 'F1Val', 'PrecisionVal', 'RecallVal'])\n",
        "LogResults"
      ],
      "execution_count": 664,
      "outputs": [
        {
          "output_type": "execute_result",
          "data": {
            "text/html": [
              "<div>\n",
              "<style scoped>\n",
              "    .dataframe tbody tr th:only-of-type {\n",
              "        vertical-align: middle;\n",
              "    }\n",
              "\n",
              "    .dataframe tbody tr th {\n",
              "        vertical-align: top;\n",
              "    }\n",
              "\n",
              "    .dataframe thead th {\n",
              "        text-align: right;\n",
              "    }\n",
              "</style>\n",
              "<table border=\"1\" class=\"dataframe\">\n",
              "  <thead>\n",
              "    <tr style=\"text-align: right;\">\n",
              "      <th></th>\n",
              "      <th>Lambda</th>\n",
              "      <th>AccuracyTrain</th>\n",
              "      <th>F1Train</th>\n",
              "      <th>PrecisionTrain</th>\n",
              "      <th>RecallTrain</th>\n",
              "      <th>AccuracyVal</th>\n",
              "      <th>F1Val</th>\n",
              "      <th>PrecisionVal</th>\n",
              "      <th>RecallVal</th>\n",
              "    </tr>\n",
              "  </thead>\n",
              "  <tbody>\n",
              "    <tr>\n",
              "      <th>0</th>\n",
              "      <td>0.1</td>\n",
              "      <td>0.558875</td>\n",
              "      <td>0.149153</td>\n",
              "      <td>0.268293</td>\n",
              "      <td>0.558875</td>\n",
              "      <td>0.510490</td>\n",
              "      <td>0.146341</td>\n",
              "      <td>0.272727</td>\n",
              "      <td>0.510490</td>\n",
              "    </tr>\n",
              "    <tr>\n",
              "      <th>1</th>\n",
              "      <td>0.5</td>\n",
              "      <td>0.620387</td>\n",
              "      <td>0.000000</td>\n",
              "      <td>0.000000</td>\n",
              "      <td>0.620387</td>\n",
              "      <td>0.573427</td>\n",
              "      <td>0.000000</td>\n",
              "      <td>0.000000</td>\n",
              "      <td>0.573427</td>\n",
              "    </tr>\n",
              "    <tr>\n",
              "      <th>2</th>\n",
              "      <td>1.0</td>\n",
              "      <td>0.386643</td>\n",
              "      <td>0.473605</td>\n",
              "      <td>0.348889</td>\n",
              "      <td>0.386643</td>\n",
              "      <td>0.426573</td>\n",
              "      <td>0.528736</td>\n",
              "      <td>0.403509</td>\n",
              "      <td>0.426573</td>\n",
              "    </tr>\n",
              "    <tr>\n",
              "      <th>3</th>\n",
              "      <td>2.0</td>\n",
              "      <td>0.683656</td>\n",
              "      <td>0.476744</td>\n",
              "      <td>0.625954</td>\n",
              "      <td>0.683656</td>\n",
              "      <td>0.594406</td>\n",
              "      <td>0.431373</td>\n",
              "      <td>0.523810</td>\n",
              "      <td>0.594406</td>\n",
              "    </tr>\n",
              "    <tr>\n",
              "      <th>4</th>\n",
              "      <td>3.0</td>\n",
              "      <td>0.488576</td>\n",
              "      <td>0.224000</td>\n",
              "      <td>0.259259</td>\n",
              "      <td>0.488576</td>\n",
              "      <td>0.454545</td>\n",
              "      <td>0.187500</td>\n",
              "      <td>0.250000</td>\n",
              "      <td>0.454545</td>\n",
              "    </tr>\n",
              "    <tr>\n",
              "      <th>5</th>\n",
              "      <td>4.0</td>\n",
              "      <td>0.599297</td>\n",
              "      <td>0.477064</td>\n",
              "      <td>0.466368</td>\n",
              "      <td>0.599297</td>\n",
              "      <td>0.594406</td>\n",
              "      <td>0.524590</td>\n",
              "      <td>0.516129</td>\n",
              "      <td>0.594406</td>\n",
              "    </tr>\n",
              "  </tbody>\n",
              "</table>\n",
              "</div>"
            ],
            "text/plain": [
              "   Lambda  AccuracyTrain   F1Train  ...     F1Val  PrecisionVal  RecallVal\n",
              "0     0.1       0.558875  0.149153  ...  0.146341      0.272727   0.510490\n",
              "1     0.5       0.620387  0.000000  ...  0.000000      0.000000   0.573427\n",
              "2     1.0       0.386643  0.473605  ...  0.528736      0.403509   0.426573\n",
              "3     2.0       0.683656  0.476744  ...  0.431373      0.523810   0.594406\n",
              "4     3.0       0.488576  0.224000  ...  0.187500      0.250000   0.454545\n",
              "5     4.0       0.599297  0.477064  ...  0.524590      0.516129   0.594406\n",
              "\n",
              "[6 rows x 9 columns]"
            ]
          },
          "metadata": {
            "tags": []
          },
          "execution_count": 664
        }
      ]
    },
    {
      "cell_type": "markdown",
      "metadata": {
        "id": "Af4X6Kx0wQUU",
        "colab_type": "text"
      },
      "source": [
        "**Guardar el Modelo de logistic **\n"
      ]
    },
    {
      "cell_type": "code",
      "metadata": {
        "id": "7qU6ec1PwUw1",
        "colab_type": "code",
        "colab": {
          "base_uri": "https://localhost:8080/",
          "height": 225
        },
        "outputId": "ead9f694-fe1d-4a58-d668-636fe7796328"
      },
      "source": [
        "varFilter = [0,3,4,8,9,10]\n",
        "w_, b_ = train_log(X_train[:,Filter], y_train, \n",
        "                                lr = 0.001, epochs = 90000, lambda_val = 6)\n",
        "\n",
        "# Guardamos los parámetros \n",
        "np.savez(file = \"regLogParams.npz\", w = w_, b = b_, varFilter = Filter)\n",
        "\n",
        "# Accuracy \n",
        "( metrics.accuracy_score(y_train, pred_log(X_train[:, Filter], w_, b_)), \n",
        " metrics.accuracy_score(y_val, pred_log(X_val[:, Filter], w_, b_)) )"
      ],
      "execution_count": 665,
      "outputs": [
        {
          "output_type": "stream",
          "text": [
            "Epoch: 9000, \t costo = 0.5511\n",
            "Epoch: 18000, \t costo = 0.5183\n",
            "Epoch: 27000, \t costo = 0.5061\n",
            "Epoch: 36000, \t costo = 0.5000\n",
            "Epoch: 45000, \t costo = 0.4963\n",
            "Epoch: 54000, \t costo = 0.4936\n",
            "Epoch: 63000, \t costo = 0.4917\n",
            "Epoch: 72000, \t costo = 0.4902\n",
            "Epoch: 81000, \t costo = 0.4890\n",
            "Epoch: 90000, \t costo = 0.4880\n",
            "Tiempo transcurrido: 82.31 segundos\n"
          ],
          "name": "stdout"
        },
        {
          "output_type": "execute_result",
          "data": {
            "text/plain": [
              "(0.8031634446397188, 0.7342657342657343)"
            ]
          },
          "metadata": {
            "tags": []
          },
          "execution_count": 665
        }
      ]
    },
    {
      "cell_type": "code",
      "metadata": {
        "id": "tzwTFUAf4cdm",
        "colab_type": "code",
        "colab": {
          "base_uri": "https://localhost:8080/",
          "height": 35
        },
        "outputId": "8d54c2b5-fe4a-4e4f-f073-d1696308731a"
      },
      "source": [
        "\n",
        "\n",
        "dot_data = StringIO()\n",
        "data = tree.export_graphviz(tree_final, out_file = None, filled = True, rounded = True, special_characters = True, feature_names =NumFields , class_names=str(y_train))\n",
        "graph = graphviz.Source(data)\n",
        "graph.render('Source.gv.pdf')"
      ],
      "execution_count": 666,
      "outputs": [
        {
          "output_type": "execute_result",
          "data": {
            "application/vnd.google.colaboratory.intrinsic": {
              "type": "string"
            },
            "text/plain": [
              "'Source.gv.pdf.pdf'"
            ]
          },
          "metadata": {
            "tags": []
          },
          "execution_count": 666
        }
      ]
    },
    {
      "cell_type": "code",
      "metadata": {
        "id": "R9VxP3Jn94Eu",
        "colab_type": "code",
        "colab": {
          "base_uri": "https://localhost:8080/",
          "height": 17
        },
        "outputId": "9d1533ee-83e0-4ca3-c54c-85f06e48e374"
      },
      "source": [
        "\n",
        "files.download('Source.gv.pdf')"
      ],
      "execution_count": 667,
      "outputs": [
        {
          "output_type": "display_data",
          "data": {
            "application/javascript": [
              "\n",
              "    async function download(id, filename, size) {\n",
              "      if (!google.colab.kernel.accessAllowed) {\n",
              "        return;\n",
              "      }\n",
              "      const div = document.createElement('div');\n",
              "      const label = document.createElement('label');\n",
              "      label.textContent = `Downloading \"${filename}\": `;\n",
              "      div.appendChild(label);\n",
              "      const progress = document.createElement('progress');\n",
              "      progress.max = size;\n",
              "      div.appendChild(progress);\n",
              "      document.body.appendChild(div);\n",
              "\n",
              "      const buffers = [];\n",
              "      let downloaded = 0;\n",
              "\n",
              "      const channel = await google.colab.kernel.comms.open(id);\n",
              "      // Send a message to notify the kernel that we're ready.\n",
              "      channel.send({})\n",
              "\n",
              "      for await (const message of channel.messages) {\n",
              "        // Send a message to notify the kernel that we're ready.\n",
              "        channel.send({})\n",
              "        if (message.buffers) {\n",
              "          for (const buffer of message.buffers) {\n",
              "            buffers.push(buffer);\n",
              "            downloaded += buffer.byteLength;\n",
              "            progress.value = downloaded;\n",
              "          }\n",
              "        }\n",
              "      }\n",
              "      const blob = new Blob(buffers, {type: 'application/binary'});\n",
              "      const a = document.createElement('a');\n",
              "      a.href = window.URL.createObjectURL(blob);\n",
              "      a.download = filename;\n",
              "      div.appendChild(a);\n",
              "      a.click();\n",
              "      div.remove();\n",
              "    }\n",
              "  "
            ],
            "text/plain": [
              "<IPython.core.display.Javascript object>"
            ]
          },
          "metadata": {
            "tags": []
          }
        },
        {
          "output_type": "display_data",
          "data": {
            "application/javascript": [
              "download(\"download_3fe4fe8f-b4f4-4ed8-a3fa-f155b12d4dbe\", \"Source.gv.pdf\", 21957)"
            ],
            "text/plain": [
              "<IPython.core.display.Javascript object>"
            ]
          },
          "metadata": {
            "tags": []
          }
        }
      ]
    },
    {
      "cell_type": "markdown",
      "metadata": {
        "id": "wG2bLCmf_V42",
        "colab_type": "text"
      },
      "source": [
        "**Decision Tree graph**"
      ]
    },
    {
      "cell_type": "code",
      "metadata": {
        "id": "Z1TSzEGv_cXO",
        "colab_type": "code",
        "colab": {
          "base_uri": "https://localhost:8080/",
          "height": 234
        },
        "outputId": "afa0e1b2-190a-4ed0-e823-856226f62db8"
      },
      "source": [
        "\n",
        "drive.mount('/content/gdrive')\n",
        "\n",
        "r1 = imio.imread('/content/gdrive/My Drive/Tree.PNG')\n",
        "plt.imshow(r1)"
      ],
      "execution_count": 668,
      "outputs": [
        {
          "output_type": "stream",
          "text": [
            "Drive already mounted at /content/gdrive; to attempt to forcibly remount, call drive.mount(\"/content/gdrive\", force_remount=True).\n"
          ],
          "name": "stdout"
        },
        {
          "output_type": "execute_result",
          "data": {
            "text/plain": [
              "<matplotlib.image.AxesImage at 0x7f0e8cd0fe80>"
            ]
          },
          "metadata": {
            "tags": []
          },
          "execution_count": 668
        },
        {
          "output_type": "display_data",
          "data": {
            "image/png": "[encoded data removed]",
            "text/plain": [
              "<Figure size 432x288 with 1 Axes>"
            ]
          },
          "metadata": {
            "tags": [],
            "needs_background": "light"
          }
        }
      ]
    },
    {
      "cell_type": "markdown",
      "metadata": {
        "id": "V_gorBzlB848",
        "colab_type": "text"
      },
      "source": [
        "**Prediccion Final de todos los modelos**"
      ]
    },
    {
      "cell_type": "code",
      "metadata": {
        "id": "SdTt5QngCFI1",
        "colab_type": "code",
        "colab": {}
      },
      "source": [
        "\n",
        "def Mejor_modelo(X):\n",
        "    \n",
        "\n",
        "    svm_final = joblib.load(\"/content/gdrive/My Drive/svm.pkl\")\n",
        "\n",
        "    \n",
        "   \n",
        "    param_regLog = np.load(\"regLogParams.npz\")\n",
        "    w = param_regLog['w']\n",
        "    b = param_regLog['b']\n",
        "    regLogVarFilter = param_regLog['varFilter']\n",
        "\n",
        "    \n",
        "    \n",
        "\n",
        "    modeloNBfrecuentista = np.load(\"modeloNBpandas.npz\")\n",
        "    NB_freq_varFilter = modeloNBfrecuentista['NB_Filter']\n",
        "    NBFieldsEval = modeloNBfrecuentista['NBFieldsEval']\n",
        "    Titanic_train = modeloNBfrecuentista['Titanic_train']\n",
        "    NBFieldsTrain = np.append(NBFieldsEval, \"Survived\")\n",
        " \n",
        "    Titanic_train = pd.DataFrame(Titanic_train, columns=NBFieldsTrain)\n",
        "    Titanic_eval = pd.DataFrame(X[:, NB_freq_varFilter], columns=NBFieldsEval)\n",
        "    \n",
        "  \n",
        "    tree_final = joblib.load(\"/content/gdrive/My Drive/decision_tree.pkl\")\n",
        "\n",
        "    \n",
        "  \n",
        "    y_pred_svm = svm_final.predict(X)\n",
        "    y_pred_nbfreq = predecirNB(Titanic_train, Titanic_eval )\n",
        "    y_pred_tree = tree_final.predict(X)\n",
        "    y_pred_reglog = pred_log(X[:, regLogVarFilter], w, b)\n",
        "    \n",
        "  \n",
        "    y_hat_models = np.column_stack((y_pred_svm, y_pred_nbfreq, \n",
        "                                    y_pred_tree, y_pred_reglog))\n",
        " \n",
        "    y_hat, _ = stats.mode(y_hat_models, axis = 1)\n",
        "  \n",
        "    \n",
        "    return y_hat, y_hat_models"
      ],
      "execution_count": 669,
      "outputs": []
    },
    {
      "cell_type": "code",
      "metadata": {
        "id": "skKwJkrUJCRm",
        "colab_type": "code",
        "colab": {}
      },
      "source": [
        "\n",
        "y_hat, y_hat_models =  Mejor_modelo(X_val)\n",
        "\n",
        "Models_best_Results = pd.DataFrame(np.column_stack((y_hat_models, y_hat)), \n",
        "             columns=[\"SVM\", \"Naïve Bayes Pandas\", \n",
        "                      \"Decision Tree\", \"Logistic\", \"best\"])"
      ],
      "execution_count": 670,
      "outputs": []
    },
    {
      "cell_type": "code",
      "metadata": {
        "id": "Wd5zLGRpYrc9",
        "colab_type": "code",
        "colab": {
          "base_uri": "https://localhost:8080/",
          "height": 415
        },
        "outputId": "0f062ecb-6771-4161-fb40-07b944834edb"
      },
      "source": [
        "Models_best_Results"
      ],
      "execution_count": 671,
      "outputs": [
        {
          "output_type": "execute_result",
          "data": {
            "text/html": [
              "<div>\n",
              "<style scoped>\n",
              "    .dataframe tbody tr th:only-of-type {\n",
              "        vertical-align: middle;\n",
              "    }\n",
              "\n",
              "    .dataframe tbody tr th {\n",
              "        vertical-align: top;\n",
              "    }\n",
              "\n",
              "    .dataframe thead th {\n",
              "        text-align: right;\n",
              "    }\n",
              "</style>\n",
              "<table border=\"1\" class=\"dataframe\">\n",
              "  <thead>\n",
              "    <tr style=\"text-align: right;\">\n",
              "      <th></th>\n",
              "      <th>SVM</th>\n",
              "      <th>Naïve Bayes Pandas</th>\n",
              "      <th>Decision Tree</th>\n",
              "      <th>Logistic</th>\n",
              "      <th>best</th>\n",
              "    </tr>\n",
              "  </thead>\n",
              "  <tbody>\n",
              "    <tr>\n",
              "      <th>0</th>\n",
              "      <td>0.0</td>\n",
              "      <td>0.0</td>\n",
              "      <td>1.0</td>\n",
              "      <td>0.0</td>\n",
              "      <td>0.0</td>\n",
              "    </tr>\n",
              "    <tr>\n",
              "      <th>1</th>\n",
              "      <td>1.0</td>\n",
              "      <td>0.0</td>\n",
              "      <td>1.0</td>\n",
              "      <td>1.0</td>\n",
              "      <td>1.0</td>\n",
              "    </tr>\n",
              "    <tr>\n",
              "      <th>2</th>\n",
              "      <td>0.0</td>\n",
              "      <td>0.0</td>\n",
              "      <td>0.0</td>\n",
              "      <td>0.0</td>\n",
              "      <td>0.0</td>\n",
              "    </tr>\n",
              "    <tr>\n",
              "      <th>3</th>\n",
              "      <td>0.0</td>\n",
              "      <td>0.0</td>\n",
              "      <td>0.0</td>\n",
              "      <td>0.0</td>\n",
              "      <td>0.0</td>\n",
              "    </tr>\n",
              "    <tr>\n",
              "      <th>4</th>\n",
              "      <td>1.0</td>\n",
              "      <td>0.0</td>\n",
              "      <td>1.0</td>\n",
              "      <td>1.0</td>\n",
              "      <td>1.0</td>\n",
              "    </tr>\n",
              "    <tr>\n",
              "      <th>...</th>\n",
              "      <td>...</td>\n",
              "      <td>...</td>\n",
              "      <td>...</td>\n",
              "      <td>...</td>\n",
              "      <td>...</td>\n",
              "    </tr>\n",
              "    <tr>\n",
              "      <th>138</th>\n",
              "      <td>0.0</td>\n",
              "      <td>0.0</td>\n",
              "      <td>1.0</td>\n",
              "      <td>1.0</td>\n",
              "      <td>0.0</td>\n",
              "    </tr>\n",
              "    <tr>\n",
              "      <th>139</th>\n",
              "      <td>0.0</td>\n",
              "      <td>0.0</td>\n",
              "      <td>0.0</td>\n",
              "      <td>0.0</td>\n",
              "      <td>0.0</td>\n",
              "    </tr>\n",
              "    <tr>\n",
              "      <th>140</th>\n",
              "      <td>0.0</td>\n",
              "      <td>0.0</td>\n",
              "      <td>0.0</td>\n",
              "      <td>0.0</td>\n",
              "      <td>0.0</td>\n",
              "    </tr>\n",
              "    <tr>\n",
              "      <th>141</th>\n",
              "      <td>1.0</td>\n",
              "      <td>0.0</td>\n",
              "      <td>1.0</td>\n",
              "      <td>1.0</td>\n",
              "      <td>1.0</td>\n",
              "    </tr>\n",
              "    <tr>\n",
              "      <th>142</th>\n",
              "      <td>0.0</td>\n",
              "      <td>0.0</td>\n",
              "      <td>0.0</td>\n",
              "      <td>0.0</td>\n",
              "      <td>0.0</td>\n",
              "    </tr>\n",
              "  </tbody>\n",
              "</table>\n",
              "<p>143 rows × 5 columns</p>\n",
              "</div>"
            ],
            "text/plain": [
              "     SVM  Naïve Bayes Pandas  Decision Tree  Logistic  best\n",
              "0    0.0                 0.0            1.0       0.0   0.0\n",
              "1    1.0                 0.0            1.0       1.0   1.0\n",
              "2    0.0                 0.0            0.0       0.0   0.0\n",
              "3    0.0                 0.0            0.0       0.0   0.0\n",
              "4    1.0                 0.0            1.0       1.0   1.0\n",
              "..   ...                 ...            ...       ...   ...\n",
              "138  0.0                 0.0            1.0       1.0   0.0\n",
              "139  0.0                 0.0            0.0       0.0   0.0\n",
              "140  0.0                 0.0            0.0       0.0   0.0\n",
              "141  1.0                 0.0            1.0       1.0   1.0\n",
              "142  0.0                 0.0            0.0       0.0   0.0\n",
              "\n",
              "[143 rows x 5 columns]"
            ]
          },
          "metadata": {
            "tags": []
          },
          "execution_count": 671
        }
      ]
    },
    {
      "cell_type": "code",
      "metadata": {
        "id": "5hkcLKu9Z-N-",
        "colab_type": "code",
        "colab": {}
      },
      "source": [
        "\n",
        "\n",
        "y_hat_test, _ = Mejor_modelo(X_test)\n",
        "\n"
      ],
      "execution_count": 672,
      "outputs": []
    },
    {
      "cell_type": "markdown",
      "metadata": {
        "id": "NK1350px98SR",
        "colab_type": "text"
      },
      "source": [
        "# Evaluación sobre el conjunto de pruebas\n",
        "Una vez obtenida una función mejormodelo(X) para obtener el pronóstico para cualquier vector de variables X, se procede a evaluar el sistema de votación de 4 "
      ]
    },
    {
      "cell_type": "code",
      "metadata": {
        "id": "BZalksQMaPF2",
        "colab_type": "code",
        "colab": {
          "base_uri": "https://localhost:8080/",
          "height": 35
        },
        "outputId": "73f2908f-b412-4a8e-9dfa-c14e4d2257b6"
      },
      "source": [
        "np.round(metrics.accuracy_score(y_test, y_hat_test),2)*100\n"
      ],
      "execution_count": 677,
      "outputs": [
        {
          "output_type": "execute_result",
          "data": {
            "text/plain": [
              "80.0"
            ]
          },
          "metadata": {
            "tags": []
          },
          "execution_count": 677
        }
      ]
    },
    {
      "cell_type": "markdown",
      "metadata": {
        "id": "WXWHP3jj-n5f",
        "colab_type": "text"
      },
      "source": [
        "El resultado cumple con el minimo que el profesor indico"
      ]
    },
    {
      "cell_type": "code",
      "metadata": {
        "id": "xSbCs0Rid58S",
        "colab_type": "code",
        "colab": {}
      },
      "source": [
        "\n"
      ],
      "execution_count": 673,
      "outputs": []
    },
    {
      "cell_type": "markdown",
      "metadata": {
        "id": "i50gAYUw-wOH",
        "colab_type": "text"
      },
      "source": [
        "# k-fold Cross-Validation\n",
        "\n",
        "\n",
        "La validación cruzada es un método estadístico utilizado para estimar la capacidad de los modelos de aprendizaje automático.\n",
        "\n",
        "Se usa comúnmente en el aprendizaje automático aplicado para comparar y seleccionar un modelo para un problema de modelado predictivo dado porque es fácil de entender, fácil de implementar y resulta en estimaciones de habilidades que generalmente tienen un sesgo menor que otros métodos."
      ]
    },
    {
      "cell_type": "markdown",
      "metadata": {
        "id": "GHlfVMzg_Jay",
        "colab_type": "text"
      },
      "source": [
        "# Conclusion:\n",
        "\n",
        "1. Respecto a las dificultades del proyecto: lo que me pareció más difícil fue elmodelo Naive Bayes y como definir SVM. Tambien tome mucho tiempo en la parte de prueba, aparentemente necesito mejor mas mis conocimiento en esta herramienta.\n",
        "\n",
        "2. feature engineering es una tecnica para reducir overfitting y la normalizacion de datos.\n",
        "\n",
        "3. Tambien me surge la duda por que cada vez que se actualiza rand state los valores de acurracy cambia al inicio obtuve un acurracy de 87 pero luego de varias corrida logre un 80%"
      ]
    },
    {
      "cell_type": "markdown",
      "metadata": {
        "id": "8qE25e_6MemW",
        "colab_type": "text"
      },
      "source": [
        "# **Ante Sala del Deployment**"
      ]
    },
    {
      "cell_type": "code",
      "metadata": {
        "id": "30MjNdpKUpXA",
        "colab_type": "code",
        "colab": {
          "base_uri": "https://localhost:8080/",
          "height": 938
        },
        "outputId": "bd92db58-154c-4e18-eaf0-41aa8f69e933"
      },
      "source": [
        "titanic_dt"
      ],
      "execution_count": 767,
      "outputs": [
        {
          "output_type": "execute_result",
          "data": {
            "text/html": [
              "<div>\n",
              "<style scoped>\n",
              "    .dataframe tbody tr th:only-of-type {\n",
              "        vertical-align: middle;\n",
              "    }\n",
              "\n",
              "    .dataframe tbody tr th {\n",
              "        vertical-align: top;\n",
              "    }\n",
              "\n",
              "    .dataframe thead th {\n",
              "        text-align: right;\n",
              "    }\n",
              "</style>\n",
              "<table border=\"1\" class=\"dataframe\">\n",
              "  <thead>\n",
              "    <tr style=\"text-align: right;\">\n",
              "      <th></th>\n",
              "      <th>PassengerId</th>\n",
              "      <th>Name</th>\n",
              "      <th>Age</th>\n",
              "      <th>SibSp</th>\n",
              "      <th>Parch</th>\n",
              "      <th>Ticket</th>\n",
              "      <th>Fare</th>\n",
              "      <th>Cabin</th>\n",
              "      <th>Embarked</th>\n",
              "      <th>passenger_class</th>\n",
              "      <th>passenger_sex</th>\n",
              "      <th>passenger_survived</th>\n",
              "      <th>Embarked_S</th>\n",
              "      <th>Embarked_C</th>\n",
              "      <th>Embarked_Q</th>\n",
              "      <th>Class_Lower</th>\n",
              "      <th>Class_Middle</th>\n",
              "      <th>Class_Upper</th>\n",
              "      <th>Sex</th>\n",
              "      <th>Survived</th>\n",
              "    </tr>\n",
              "  </thead>\n",
              "  <tbody>\n",
              "    <tr>\n",
              "      <th>0</th>\n",
              "      <td>1</td>\n",
              "      <td>Braund, Mr. Owen Harris</td>\n",
              "      <td>0.271174</td>\n",
              "      <td>1</td>\n",
              "      <td>0</td>\n",
              "      <td>A/5 21171</td>\n",
              "      <td>0.014151</td>\n",
              "      <td>NaN</td>\n",
              "      <td>S</td>\n",
              "      <td>Lower</td>\n",
              "      <td>M</td>\n",
              "      <td>N</td>\n",
              "      <td>1.0</td>\n",
              "      <td>0.0</td>\n",
              "      <td>0.0</td>\n",
              "      <td>1.0</td>\n",
              "      <td>0.0</td>\n",
              "      <td>0.0</td>\n",
              "      <td>0.0</td>\n",
              "      <td>0.0</td>\n",
              "    </tr>\n",
              "    <tr>\n",
              "      <th>1</th>\n",
              "      <td>2</td>\n",
              "      <td>Cumings, Mrs. John Bradley (Florence Briggs Th...</td>\n",
              "      <td>0.472229</td>\n",
              "      <td>1</td>\n",
              "      <td>0</td>\n",
              "      <td>PC 17599</td>\n",
              "      <td>0.139136</td>\n",
              "      <td>C85</td>\n",
              "      <td>C</td>\n",
              "      <td>Upper</td>\n",
              "      <td>F</td>\n",
              "      <td>Y</td>\n",
              "      <td>0.0</td>\n",
              "      <td>1.0</td>\n",
              "      <td>0.0</td>\n",
              "      <td>0.0</td>\n",
              "      <td>0.0</td>\n",
              "      <td>1.0</td>\n",
              "      <td>1.0</td>\n",
              "      <td>1.0</td>\n",
              "    </tr>\n",
              "    <tr>\n",
              "      <th>2</th>\n",
              "      <td>3</td>\n",
              "      <td>Heikkinen, Miss. Laina</td>\n",
              "      <td>0.321438</td>\n",
              "      <td>0</td>\n",
              "      <td>0</td>\n",
              "      <td>STON/O2. 3101282</td>\n",
              "      <td>0.015469</td>\n",
              "      <td>NaN</td>\n",
              "      <td>S</td>\n",
              "      <td>Lower</td>\n",
              "      <td>F</td>\n",
              "      <td>Y</td>\n",
              "      <td>1.0</td>\n",
              "      <td>0.0</td>\n",
              "      <td>0.0</td>\n",
              "      <td>1.0</td>\n",
              "      <td>0.0</td>\n",
              "      <td>0.0</td>\n",
              "      <td>1.0</td>\n",
              "      <td>1.0</td>\n",
              "    </tr>\n",
              "    <tr>\n",
              "      <th>3</th>\n",
              "      <td>4</td>\n",
              "      <td>Futrelle, Mrs. Jacques Heath (Lily May Peel)</td>\n",
              "      <td>0.434531</td>\n",
              "      <td>1</td>\n",
              "      <td>0</td>\n",
              "      <td>113803</td>\n",
              "      <td>0.103644</td>\n",
              "      <td>C123</td>\n",
              "      <td>S</td>\n",
              "      <td>Upper</td>\n",
              "      <td>F</td>\n",
              "      <td>Y</td>\n",
              "      <td>1.0</td>\n",
              "      <td>0.0</td>\n",
              "      <td>0.0</td>\n",
              "      <td>0.0</td>\n",
              "      <td>0.0</td>\n",
              "      <td>1.0</td>\n",
              "      <td>1.0</td>\n",
              "      <td>1.0</td>\n",
              "    </tr>\n",
              "    <tr>\n",
              "      <th>4</th>\n",
              "      <td>5</td>\n",
              "      <td>Allen, Mr. William Henry</td>\n",
              "      <td>0.434531</td>\n",
              "      <td>0</td>\n",
              "      <td>0</td>\n",
              "      <td>373450</td>\n",
              "      <td>0.015713</td>\n",
              "      <td>NaN</td>\n",
              "      <td>S</td>\n",
              "      <td>Lower</td>\n",
              "      <td>M</td>\n",
              "      <td>N</td>\n",
              "      <td>1.0</td>\n",
              "      <td>0.0</td>\n",
              "      <td>0.0</td>\n",
              "      <td>1.0</td>\n",
              "      <td>0.0</td>\n",
              "      <td>0.0</td>\n",
              "      <td>0.0</td>\n",
              "      <td>0.0</td>\n",
              "    </tr>\n",
              "    <tr>\n",
              "      <th>...</th>\n",
              "      <td>...</td>\n",
              "      <td>...</td>\n",
              "      <td>...</td>\n",
              "      <td>...</td>\n",
              "      <td>...</td>\n",
              "      <td>...</td>\n",
              "      <td>...</td>\n",
              "      <td>...</td>\n",
              "      <td>...</td>\n",
              "      <td>...</td>\n",
              "      <td>...</td>\n",
              "      <td>...</td>\n",
              "      <td>...</td>\n",
              "      <td>...</td>\n",
              "      <td>...</td>\n",
              "      <td>...</td>\n",
              "      <td>...</td>\n",
              "      <td>...</td>\n",
              "      <td>...</td>\n",
              "      <td>...</td>\n",
              "    </tr>\n",
              "    <tr>\n",
              "      <th>886</th>\n",
              "      <td>887</td>\n",
              "      <td>Montvila, Rev. Juozas</td>\n",
              "      <td>0.334004</td>\n",
              "      <td>0</td>\n",
              "      <td>0</td>\n",
              "      <td>211536</td>\n",
              "      <td>0.025374</td>\n",
              "      <td>NaN</td>\n",
              "      <td>S</td>\n",
              "      <td>Middle</td>\n",
              "      <td>M</td>\n",
              "      <td>N</td>\n",
              "      <td>1.0</td>\n",
              "      <td>0.0</td>\n",
              "      <td>0.0</td>\n",
              "      <td>0.0</td>\n",
              "      <td>1.0</td>\n",
              "      <td>0.0</td>\n",
              "      <td>0.0</td>\n",
              "      <td>0.0</td>\n",
              "    </tr>\n",
              "    <tr>\n",
              "      <th>887</th>\n",
              "      <td>888</td>\n",
              "      <td>Graham, Miss. Margaret Edith</td>\n",
              "      <td>0.233476</td>\n",
              "      <td>0</td>\n",
              "      <td>0</td>\n",
              "      <td>112053</td>\n",
              "      <td>0.058556</td>\n",
              "      <td>B42</td>\n",
              "      <td>S</td>\n",
              "      <td>Upper</td>\n",
              "      <td>F</td>\n",
              "      <td>Y</td>\n",
              "      <td>1.0</td>\n",
              "      <td>0.0</td>\n",
              "      <td>0.0</td>\n",
              "      <td>0.0</td>\n",
              "      <td>0.0</td>\n",
              "      <td>1.0</td>\n",
              "      <td>1.0</td>\n",
              "      <td>1.0</td>\n",
              "    </tr>\n",
              "    <tr>\n",
              "      <th>888</th>\n",
              "      <td>889</td>\n",
              "      <td>Johnston, Miss. Catherine Helen \"Carrie\"</td>\n",
              "      <td>0.346569</td>\n",
              "      <td>1</td>\n",
              "      <td>2</td>\n",
              "      <td>W./C. 6607</td>\n",
              "      <td>0.045771</td>\n",
              "      <td>NaN</td>\n",
              "      <td>S</td>\n",
              "      <td>Lower</td>\n",
              "      <td>F</td>\n",
              "      <td>N</td>\n",
              "      <td>1.0</td>\n",
              "      <td>0.0</td>\n",
              "      <td>0.0</td>\n",
              "      <td>1.0</td>\n",
              "      <td>0.0</td>\n",
              "      <td>0.0</td>\n",
              "      <td>1.0</td>\n",
              "      <td>0.0</td>\n",
              "    </tr>\n",
              "    <tr>\n",
              "      <th>889</th>\n",
              "      <td>890</td>\n",
              "      <td>Behr, Mr. Karl Howell</td>\n",
              "      <td>0.321438</td>\n",
              "      <td>0</td>\n",
              "      <td>0</td>\n",
              "      <td>111369</td>\n",
              "      <td>0.058556</td>\n",
              "      <td>C148</td>\n",
              "      <td>C</td>\n",
              "      <td>Upper</td>\n",
              "      <td>M</td>\n",
              "      <td>Y</td>\n",
              "      <td>0.0</td>\n",
              "      <td>1.0</td>\n",
              "      <td>0.0</td>\n",
              "      <td>0.0</td>\n",
              "      <td>0.0</td>\n",
              "      <td>1.0</td>\n",
              "      <td>0.0</td>\n",
              "      <td>1.0</td>\n",
              "    </tr>\n",
              "    <tr>\n",
              "      <th>890</th>\n",
              "      <td>891</td>\n",
              "      <td>Dooley, Mr. Patrick</td>\n",
              "      <td>0.396833</td>\n",
              "      <td>0</td>\n",
              "      <td>0</td>\n",
              "      <td>370376</td>\n",
              "      <td>0.015127</td>\n",
              "      <td>NaN</td>\n",
              "      <td>Q</td>\n",
              "      <td>Lower</td>\n",
              "      <td>M</td>\n",
              "      <td>N</td>\n",
              "      <td>0.0</td>\n",
              "      <td>0.0</td>\n",
              "      <td>1.0</td>\n",
              "      <td>1.0</td>\n",
              "      <td>0.0</td>\n",
              "      <td>0.0</td>\n",
              "      <td>0.0</td>\n",
              "      <td>0.0</td>\n",
              "    </tr>\n",
              "  </tbody>\n",
              "</table>\n",
              "<p>891 rows × 20 columns</p>\n",
              "</div>"
            ],
            "text/plain": [
              "     PassengerId  ... Survived\n",
              "0              1  ...      0.0\n",
              "1              2  ...      1.0\n",
              "2              3  ...      1.0\n",
              "3              4  ...      1.0\n",
              "4              5  ...      0.0\n",
              "..           ...  ...      ...\n",
              "886          887  ...      0.0\n",
              "887          888  ...      1.0\n",
              "888          889  ...      0.0\n",
              "889          890  ...      1.0\n",
              "890          891  ...      0.0\n",
              "\n",
              "[891 rows x 20 columns]"
            ]
          },
          "metadata": {
            "tags": []
          },
          "execution_count": 767
        }
      ]
    },
    {
      "cell_type": "code",
      "metadata": {
        "id": "HtYVGWBTQBxH",
        "colab_type": "code",
        "colab": {}
      },
      "source": [
        "dat_1 = titanic_dt.drop(['PassengerId',\t'Name','Ticket',\t'Cabin',\t'Embarked',\t'passenger_class','passenger_sex',\t'passenger_survived'], axis=1)\n",
        "dat_2 = dat_1.values"
      ],
      "execution_count": 774,
      "outputs": []
    },
    {
      "cell_type": "markdown",
      "metadata": {
        "id": "1kZRt1xeWbHB",
        "colab_type": "text"
      },
      "source": [
        "[\"Age\", \"SibSp\", \"Parch\", \"Fare\", \"Sex\", \n",
        "             \"Embarked_S\", \"Embarked_C\", \"Embarked_Q\", \n",
        "             \"Class_Lower\", \"Class_Middle\", \"Class_Upper\"]"
      ]
    },
    {
      "cell_type": "code",
      "metadata": {
        "id": "VWQLG1qVLQbh",
        "colab_type": "code",
        "colab": {}
      },
      "source": [
        "train,test=train_test_split(dat_2,test_size=0.2,random_state=0)"
      ],
      "execution_count": 777,
      "outputs": []
    },
    {
      "cell_type": "code",
      "metadata": {
        "id": "uzk-anWHBbbW",
        "colab_type": "code",
        "colab": {}
      },
      "source": [
        "DY_test = test[:,11]\n",
        "\n",
        "pd.DataFrame(DY_test).to_csv('/content/gdrive/My Drive/Titanicdeployment_Y.csv', header=False, index=False)"
      ],
      "execution_count": 782,
      "outputs": []
    },
    {
      "cell_type": "code",
      "metadata": {
        "id": "O9rQXoyCS3VI",
        "colab_type": "code",
        "colab": {
          "base_uri": "https://localhost:8080/",
          "height": 208
        },
        "outputId": "019aeaae-0385-4ca8-c8b6-e64d1c2621f7"
      },
      "source": [
        "DY_test"
      ],
      "execution_count": 779,
      "outputs": [
        {
          "output_type": "execute_result",
          "data": {
            "text/plain": [
              "array([0., 0., 0., 1., 1., 1., 1., 1., 1., 1., 0., 1., 0., 1., 1., 0., 0.,\n",
              "       0., 0., 1., 0., 1., 0., 0., 0., 1., 0., 1., 1., 0., 0., 1., 0., 1.,\n",
              "       0., 1., 0., 0., 0., 0., 1., 0., 0., 0., 1., 0., 0., 1., 0., 0., 1.,\n",
              "       1., 1., 0., 1., 0., 0., 0., 0., 1., 0., 0., 1., 0., 1., 0., 1., 0.,\n",
              "       1., 1., 1., 1., 0., 0., 0., 1., 0., 0., 0., 0., 0., 1., 0., 0., 0.,\n",
              "       1., 1., 1., 1., 0., 0., 0., 1., 1., 0., 0., 1., 0., 0., 1., 0., 0.,\n",
              "       0., 0., 0., 1., 1., 0., 0., 1., 0., 1., 1., 0., 1., 1., 1., 1., 0.,\n",
              "       1., 1., 0., 0., 0., 0., 0., 0., 1., 0., 0., 0., 0., 0., 0., 0., 0.,\n",
              "       0., 0., 0., 0., 0., 1., 0., 0., 1., 0., 0., 1., 1., 0., 0., 1., 0.,\n",
              "       0., 1., 0., 0., 1., 0., 1., 0., 1., 1., 1., 0., 0., 0., 0., 0., 0.,\n",
              "       0., 1., 0., 0., 1., 0., 1., 0., 0.])"
            ]
          },
          "metadata": {
            "tags": []
          },
          "execution_count": 779
        }
      ]
    },
    {
      "cell_type": "code",
      "metadata": {
        "id": "pkllVwSsImSy",
        "colab_type": "code",
        "colab": {}
      },
      "source": [
        "d_test = test[:,0:11]\n",
        "pd.DataFrame(d_test).to_csv('/content/gdrive/My Drive/Titanicdeployment.csv', header=False, index=False)"
      ],
      "execution_count": 784,
      "outputs": []
    },
    {
      "cell_type": "code",
      "metadata": {
        "id": "LgtBEOMgKo5P",
        "colab_type": "code",
        "colab": {
          "base_uri": "https://localhost:8080/",
          "height": 243
        },
        "outputId": "2afe670b-8d74-4410-f9ba-6b947f6ebd2f"
      },
      "source": [
        "d_test[:,0:11]"
      ],
      "execution_count": 783,
      "outputs": [
        {
          "output_type": "execute_result",
          "data": {
            "text/plain": [
              "array([[0.34656949, 0.        , 0.        , ..., 0.        , 0.        ,\n",
              "        0.        ],\n",
              "       [0.34656949, 0.        , 0.        , ..., 0.        , 0.        ,\n",
              "        0.        ],\n",
              "       [0.08268409, 4.        , 1.        , ..., 0.        , 0.        ,\n",
              "        0.        ],\n",
              "       ...,\n",
              "       [0.3842674 , 1.        , 0.        , ..., 0.        , 1.        ,\n",
              "        1.        ],\n",
              "       [0.28373963, 0.        , 0.        , ..., 0.        , 0.        ,\n",
              "        0.        ],\n",
              "       [0.23347575, 0.        , 0.        , ..., 0.        , 0.        ,\n",
              "        0.        ]])"
            ]
          },
          "metadata": {
            "tags": []
          },
          "execution_count": 783
        }
      ]
    }
  ]
}